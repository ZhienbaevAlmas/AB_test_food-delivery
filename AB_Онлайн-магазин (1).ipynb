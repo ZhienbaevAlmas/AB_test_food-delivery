{
 "cells": [
  {
   "cell_type": "markdown",
   "id": "8c7953b0-8498-4b15-bce9-f5d30501339b",
   "metadata": {},
   "source": [
    "## Онлайн-магазин"
   ]
  },
  {
   "cell_type": "code",
   "execution_count": 1,
   "id": "863e8b99-58d9-4251-9a93-e168256f8f4d",
   "metadata": {},
   "outputs": [],
   "source": [
    "import pandas as pd\n",
    "import numpy as np\n",
    "\n",
    "import pingouin as pg\n",
    "import scipy.stats as ss\n",
    "from scipy.stats import chi2_contingency\n",
    "import statsmodels.formula.api as smf\n",
    "from scipy.stats import bootstrap\n",
    "\n",
    "import lifelines as lf\n",
    "\n",
    "import seaborn as sns\n",
    "import matplotlib.pyplot as plt"
   ]
  },
  {
   "cell_type": "code",
   "execution_count": 2,
   "id": "c2f54064-5917-4930-adbc-7379a43a4370",
   "metadata": {},
   "outputs": [],
   "source": [
    "users = pd.read_csv(\"ab_users_data.csv\")\n",
    "products = pd.read_csv(\"ab_products.csv\")\n",
    "orders = pd.read_csv(\"ab_orders.csv\")"
   ]
  },
  {
   "cell_type": "code",
   "execution_count": 45,
   "id": "120cd2f5-c4d5-46a8-988f-80464bd204a3",
   "metadata": {},
   "outputs": [
    {
     "data": {
      "text/html": [
       "<div>\n",
       "<style scoped>\n",
       "    .dataframe tbody tr th:only-of-type {\n",
       "        vertical-align: middle;\n",
       "    }\n",
       "\n",
       "    .dataframe tbody tr th {\n",
       "        vertical-align: top;\n",
       "    }\n",
       "\n",
       "    .dataframe thead th {\n",
       "        text-align: right;\n",
       "    }\n",
       "</style>\n",
       "<table border=\"1\" class=\"dataframe\">\n",
       "  <thead>\n",
       "    <tr style=\"text-align: right;\">\n",
       "      <th></th>\n",
       "      <th>user_id</th>\n",
       "      <th>order_id</th>\n",
       "      <th>action</th>\n",
       "      <th>time</th>\n",
       "      <th>date</th>\n",
       "      <th>group</th>\n",
       "    </tr>\n",
       "  </thead>\n",
       "  <tbody>\n",
       "    <tr>\n",
       "      <th>0</th>\n",
       "      <td>964</td>\n",
       "      <td>1255</td>\n",
       "      <td>create_order</td>\n",
       "      <td>2022-08-26 00:00:19.000000</td>\n",
       "      <td>2022-08-26</td>\n",
       "      <td>0</td>\n",
       "    </tr>\n",
       "    <tr>\n",
       "      <th>1</th>\n",
       "      <td>965</td>\n",
       "      <td>1256</td>\n",
       "      <td>create_order</td>\n",
       "      <td>2022-08-26 00:02:21.000000</td>\n",
       "      <td>2022-08-26</td>\n",
       "      <td>1</td>\n",
       "    </tr>\n",
       "    <tr>\n",
       "      <th>2</th>\n",
       "      <td>964</td>\n",
       "      <td>1257</td>\n",
       "      <td>create_order</td>\n",
       "      <td>2022-08-26 00:02:27.000000</td>\n",
       "      <td>2022-08-26</td>\n",
       "      <td>0</td>\n",
       "    </tr>\n",
       "    <tr>\n",
       "      <th>3</th>\n",
       "      <td>966</td>\n",
       "      <td>1258</td>\n",
       "      <td>create_order</td>\n",
       "      <td>2022-08-26 00:02:56.000000</td>\n",
       "      <td>2022-08-26</td>\n",
       "      <td>0</td>\n",
       "    </tr>\n",
       "    <tr>\n",
       "      <th>4</th>\n",
       "      <td>967</td>\n",
       "      <td>1259</td>\n",
       "      <td>create_order</td>\n",
       "      <td>2022-08-26 00:03:37.000000</td>\n",
       "      <td>2022-08-26</td>\n",
       "      <td>1</td>\n",
       "    </tr>\n",
       "  </tbody>\n",
       "</table>\n",
       "</div>"
      ],
      "text/plain": [
       "   user_id  order_id        action                        time        date  \\\n",
       "0      964      1255  create_order  2022-08-26 00:00:19.000000  2022-08-26   \n",
       "1      965      1256  create_order  2022-08-26 00:02:21.000000  2022-08-26   \n",
       "2      964      1257  create_order  2022-08-26 00:02:27.000000  2022-08-26   \n",
       "3      966      1258  create_order  2022-08-26 00:02:56.000000  2022-08-26   \n",
       "4      967      1259  create_order  2022-08-26 00:03:37.000000  2022-08-26   \n",
       "\n",
       "   group  \n",
       "0      0  \n",
       "1      1  \n",
       "2      0  \n",
       "3      0  \n",
       "4      1  "
      ]
     },
     "execution_count": 45,
     "metadata": {},
     "output_type": "execute_result"
    }
   ],
   "source": [
    "users.head()"
   ]
  },
  {
   "cell_type": "code",
   "execution_count": 46,
   "id": "1205f303-b7a7-49a1-9531-97561472ccf1",
   "metadata": {},
   "outputs": [
    {
     "data": {
      "text/plain": [
       "(4337, 6)"
      ]
     },
     "execution_count": 46,
     "metadata": {},
     "output_type": "execute_result"
    }
   ],
   "source": [
    "users.shape"
   ]
  },
  {
   "cell_type": "code",
   "execution_count": 13,
   "id": "ea6d2d79-ecf5-4738-a9b4-7c90d5a9fc63",
   "metadata": {},
   "outputs": [
    {
     "name": "stdout",
     "output_type": "stream",
     "text": [
      "Всего действий = 4337\n",
      "Созданных заказов = 4123\n",
      "Отмененных заказов = 214\n",
      "Всего пользователей = 1017\n",
      "Пользователи контрольной группы = 515\n",
      "Пользователи тестовой группы = 502\n"
     ]
    },
    {
     "name": "stderr",
     "output_type": "stream",
     "text": [
      "C:\\Users\\Алмас\\AppData\\Local\\Temp\\ipykernel_17088\\2168221501.py:5: FutureWarning: Series.__getitem__ treating keys as positions is deprecated. In a future version, integer keys will always be treated as labels (consistent with DataFrame behavior). To access a value by position, use `ser.iloc[pos]`\n",
      "  e = users['action'].value_counts()[0]\n",
      "C:\\Users\\Алмас\\AppData\\Local\\Temp\\ipykernel_17088\\2168221501.py:6: FutureWarning: Series.__getitem__ treating keys as positions is deprecated. In a future version, integer keys will always be treated as labels (consistent with DataFrame behavior). To access a value by position, use `ser.iloc[pos]`\n",
      "  f = users['action'].value_counts()[1]\n"
     ]
    }
   ],
   "source": [
    "a = users['user_id'].nunique()\n",
    "b = users.query('group == 0')['user_id'].nunique()\n",
    "c = users.query('group == 1')['user_id'].nunique()\n",
    "d = users.shape[0]\n",
    "e = users['action'].value_counts()[0]\n",
    "f = users['action'].value_counts()[1]\n",
    "print('Всего действий =', d)\n",
    "print('Созданных заказов =', e)\n",
    "print('Отмененных заказов =', f)\n",
    "print('Всего пользователей =', a)\n",
    "print('Пользователи контрольной группы =', b)\n",
    "print('Пользователи тестовой группы =', c)"
   ]
  },
  {
   "cell_type": "code",
   "execution_count": 38,
   "id": "4b910edb-0bb2-419e-8586-fb27231ff5a6",
   "metadata": {
    "scrolled": true
   },
   "outputs": [
    {
     "data": {
      "text/plain": [
       "set()"
      ]
     },
     "execution_count": 38,
     "metadata": {},
     "output_type": "execute_result"
    }
   ],
   "source": [
    "gr_01 = set(users.query('group==0').user_id)\n",
    "gr_11 = set(users.query('group==1').user_id)\n",
    "\n",
    "gr_01.intersection(gr_11)"
   ]
  },
  {
   "cell_type": "markdown",
   "id": "97fda751-1cd5-48ac-aece-5c42d42e5a05",
   "metadata": {},
   "source": [
    "_Множества не пересекаются_ - пользователи из контрольной группы не могут быть частью тестовой группы - __Независимые выборки__"
   ]
  },
  {
   "cell_type": "code",
   "execution_count": 4,
   "id": "51af068f-b499-4ffa-9cc2-09348b0ed1f1",
   "metadata": {},
   "outputs": [
    {
     "data": {
      "text/plain": [
       "8        1258\n",
       "39       1296\n",
       "47       1298\n",
       "54       1308\n",
       "60       1315\n",
       "        ...  \n",
       "4221    54938\n",
       "4255    56612\n",
       "4259    56772\n",
       "4307    58492\n",
       "4321    59055\n",
       "Name: order_id, Length: 214, dtype: int64"
      ]
     },
     "execution_count": 4,
     "metadata": {},
     "output_type": "execute_result"
    }
   ],
   "source": [
    "canc_orders = users.query(\"action == 'cancel_order'\").order_id #заказы, которые отменили\n",
    "canc_orders"
   ]
  },
  {
   "cell_type": "code",
   "execution_count": 5,
   "id": "1efb6a6e-b544-4cb4-909f-db91b7165b8f",
   "metadata": {},
   "outputs": [
    {
     "data": {
      "text/html": [
       "<div>\n",
       "<style scoped>\n",
       "    .dataframe tbody tr th:only-of-type {\n",
       "        vertical-align: middle;\n",
       "    }\n",
       "\n",
       "    .dataframe tbody tr th {\n",
       "        vertical-align: top;\n",
       "    }\n",
       "\n",
       "    .dataframe thead th {\n",
       "        text-align: right;\n",
       "    }\n",
       "</style>\n",
       "<table border=\"1\" class=\"dataframe\">\n",
       "  <thead>\n",
       "    <tr style=\"text-align: right;\">\n",
       "      <th></th>\n",
       "      <th>user_id</th>\n",
       "      <th>order_id</th>\n",
       "      <th>action</th>\n",
       "      <th>time</th>\n",
       "      <th>date</th>\n",
       "      <th>group</th>\n",
       "      <th>is_canceled</th>\n",
       "    </tr>\n",
       "  </thead>\n",
       "  <tbody>\n",
       "    <tr>\n",
       "      <th>0</th>\n",
       "      <td>964</td>\n",
       "      <td>1255</td>\n",
       "      <td>create_order</td>\n",
       "      <td>2022-08-26 00:00:19.000000</td>\n",
       "      <td>2022-08-26</td>\n",
       "      <td>0</td>\n",
       "      <td>0</td>\n",
       "    </tr>\n",
       "    <tr>\n",
       "      <th>1</th>\n",
       "      <td>965</td>\n",
       "      <td>1256</td>\n",
       "      <td>create_order</td>\n",
       "      <td>2022-08-26 00:02:21.000000</td>\n",
       "      <td>2022-08-26</td>\n",
       "      <td>1</td>\n",
       "      <td>0</td>\n",
       "    </tr>\n",
       "    <tr>\n",
       "      <th>2</th>\n",
       "      <td>964</td>\n",
       "      <td>1257</td>\n",
       "      <td>create_order</td>\n",
       "      <td>2022-08-26 00:02:27.000000</td>\n",
       "      <td>2022-08-26</td>\n",
       "      <td>0</td>\n",
       "      <td>0</td>\n",
       "    </tr>\n",
       "    <tr>\n",
       "      <th>3</th>\n",
       "      <td>966</td>\n",
       "      <td>1258</td>\n",
       "      <td>create_order</td>\n",
       "      <td>2022-08-26 00:02:56.000000</td>\n",
       "      <td>2022-08-26</td>\n",
       "      <td>0</td>\n",
       "      <td>1</td>\n",
       "    </tr>\n",
       "    <tr>\n",
       "      <th>4</th>\n",
       "      <td>967</td>\n",
       "      <td>1259</td>\n",
       "      <td>create_order</td>\n",
       "      <td>2022-08-26 00:03:37.000000</td>\n",
       "      <td>2022-08-26</td>\n",
       "      <td>1</td>\n",
       "      <td>0</td>\n",
       "    </tr>\n",
       "  </tbody>\n",
       "</table>\n",
       "</div>"
      ],
      "text/plain": [
       "   user_id  order_id        action                        time        date  \\\n",
       "0      964      1255  create_order  2022-08-26 00:00:19.000000  2022-08-26   \n",
       "1      965      1256  create_order  2022-08-26 00:02:21.000000  2022-08-26   \n",
       "2      964      1257  create_order  2022-08-26 00:02:27.000000  2022-08-26   \n",
       "3      966      1258  create_order  2022-08-26 00:02:56.000000  2022-08-26   \n",
       "4      967      1259  create_order  2022-08-26 00:03:37.000000  2022-08-26   \n",
       "\n",
       "   group  is_canceled  \n",
       "0      0            0  \n",
       "1      1            0  \n",
       "2      0            0  \n",
       "3      0            1  \n",
       "4      1            0  "
      ]
     },
     "execution_count": 5,
     "metadata": {},
     "output_type": "execute_result"
    }
   ],
   "source": [
    "users[\"is_canceled\"] = users[\"order_id\"].isin(canc_orders).astype(int) #делаем переменную отмены заказа\n",
    "users.head()"
   ]
  },
  {
   "cell_type": "markdown",
   "id": "33e5046b-03fb-47f2-957f-a3d48b81465a",
   "metadata": {},
   "source": [
    "## Гипотеза 1: Изменилась пропорция заказов (созданных и отмененных заказов)"
   ]
  },
  {
   "cell_type": "markdown",
   "id": "e7336840-cde6-4dc4-89e1-384b8b1f6d7c",
   "metadata": {},
   "source": [
    "__Анализ различий в отмененных заказов__"
   ]
  },
  {
   "cell_type": "code",
   "execution_count": 6,
   "id": "b5cbfb2b-2fbf-441f-b245-111eec0c8e26",
   "metadata": {},
   "outputs": [
    {
     "data": {
      "text/html": [
       "<div>\n",
       "<style scoped>\n",
       "    .dataframe tbody tr th:only-of-type {\n",
       "        vertical-align: middle;\n",
       "    }\n",
       "\n",
       "    .dataframe tbody tr th {\n",
       "        vertical-align: top;\n",
       "    }\n",
       "\n",
       "    .dataframe thead th {\n",
       "        text-align: right;\n",
       "    }\n",
       "</style>\n",
       "<table border=\"1\" class=\"dataframe\">\n",
       "  <thead>\n",
       "    <tr style=\"text-align: right;\">\n",
       "      <th>is_canceled</th>\n",
       "      <th>0</th>\n",
       "      <th>1</th>\n",
       "    </tr>\n",
       "    <tr>\n",
       "      <th>group</th>\n",
       "      <th></th>\n",
       "      <th></th>\n",
       "    </tr>\n",
       "  </thead>\n",
       "  <tbody>\n",
       "    <tr>\n",
       "      <th>0</th>\n",
       "      <td>1527</td>\n",
       "      <td>164</td>\n",
       "    </tr>\n",
       "    <tr>\n",
       "      <th>1</th>\n",
       "      <td>2382</td>\n",
       "      <td>264</td>\n",
       "    </tr>\n",
       "  </tbody>\n",
       "</table>\n",
       "</div>"
      ],
      "text/plain": [
       "is_canceled     0    1\n",
       "group                 \n",
       "0            1527  164\n",
       "1            2382  264"
      ]
     },
     "execution_count": 6,
     "metadata": {},
     "output_type": "execute_result"
    }
   ],
   "source": [
    "canceled_crosstab = pd.crosstab(users.group, users.is_canceled)\n",
    "canceled_crosstab"
   ]
  },
  {
   "cell_type": "code",
   "execution_count": 7,
   "id": "3b641623-3d6a-46a0-b939-06e9d373f130",
   "metadata": {},
   "outputs": [
    {
     "name": "stdout",
     "output_type": "stream",
     "text": [
      "χ²: 0.061601349659573534, p-значение: 0.8039826126366771\n"
     ]
    }
   ],
   "source": [
    "chi2, p, dof, expected = chi2_contingency(canceled_crosstab)\n",
    "print(f\"χ²: {chi2}, p-значение: {p}\")"
   ]
  },
  {
   "cell_type": "code",
   "execution_count": 8,
   "id": "d4b6a50d-097a-49c3-a750-116d1b40c881",
   "metadata": {},
   "outputs": [
    {
     "data": {
      "text/html": [
       "<div>\n",
       "<style scoped>\n",
       "    .dataframe tbody tr th:only-of-type {\n",
       "        vertical-align: middle;\n",
       "    }\n",
       "\n",
       "    .dataframe tbody tr th {\n",
       "        vertical-align: top;\n",
       "    }\n",
       "\n",
       "    .dataframe thead th {\n",
       "        text-align: right;\n",
       "    }\n",
       "</style>\n",
       "<table border=\"1\" class=\"dataframe\">\n",
       "  <thead>\n",
       "    <tr style=\"text-align: right;\">\n",
       "      <th></th>\n",
       "      <th>test</th>\n",
       "      <th>lambda</th>\n",
       "      <th>chi2</th>\n",
       "      <th>dof</th>\n",
       "      <th>pval</th>\n",
       "      <th>cramer</th>\n",
       "      <th>power</th>\n",
       "    </tr>\n",
       "  </thead>\n",
       "  <tbody>\n",
       "    <tr>\n",
       "      <th>0</th>\n",
       "      <td>pearson</td>\n",
       "      <td>1.000000</td>\n",
       "      <td>0.061601</td>\n",
       "      <td>1.0</td>\n",
       "      <td>0.803983</td>\n",
       "      <td>0.003769</td>\n",
       "      <td>0.057086</td>\n",
       "    </tr>\n",
       "    <tr>\n",
       "      <th>1</th>\n",
       "      <td>cressie-read</td>\n",
       "      <td>0.666667</td>\n",
       "      <td>0.061633</td>\n",
       "      <td>1.0</td>\n",
       "      <td>0.803933</td>\n",
       "      <td>0.003770</td>\n",
       "      <td>0.057090</td>\n",
       "    </tr>\n",
       "    <tr>\n",
       "      <th>2</th>\n",
       "      <td>log-likelihood</td>\n",
       "      <td>0.000000</td>\n",
       "      <td>0.061697</td>\n",
       "      <td>1.0</td>\n",
       "      <td>0.803834</td>\n",
       "      <td>0.003772</td>\n",
       "      <td>0.057097</td>\n",
       "    </tr>\n",
       "    <tr>\n",
       "      <th>3</th>\n",
       "      <td>freeman-tukey</td>\n",
       "      <td>-0.500000</td>\n",
       "      <td>0.061745</td>\n",
       "      <td>1.0</td>\n",
       "      <td>0.803759</td>\n",
       "      <td>0.003773</td>\n",
       "      <td>0.057103</td>\n",
       "    </tr>\n",
       "    <tr>\n",
       "      <th>4</th>\n",
       "      <td>mod-log-likelihood</td>\n",
       "      <td>-1.000000</td>\n",
       "      <td>0.061794</td>\n",
       "      <td>1.0</td>\n",
       "      <td>0.803683</td>\n",
       "      <td>0.003775</td>\n",
       "      <td>0.057109</td>\n",
       "    </tr>\n",
       "    <tr>\n",
       "      <th>5</th>\n",
       "      <td>neyman</td>\n",
       "      <td>-2.000000</td>\n",
       "      <td>0.061892</td>\n",
       "      <td>1.0</td>\n",
       "      <td>0.803530</td>\n",
       "      <td>0.003778</td>\n",
       "      <td>0.057120</td>\n",
       "    </tr>\n",
       "  </tbody>\n",
       "</table>\n",
       "</div>"
      ],
      "text/plain": [
       "                 test    lambda      chi2  dof      pval    cramer     power\n",
       "0             pearson  1.000000  0.061601  1.0  0.803983  0.003769  0.057086\n",
       "1        cressie-read  0.666667  0.061633  1.0  0.803933  0.003770  0.057090\n",
       "2      log-likelihood  0.000000  0.061697  1.0  0.803834  0.003772  0.057097\n",
       "3       freeman-tukey -0.500000  0.061745  1.0  0.803759  0.003773  0.057103\n",
       "4  mod-log-likelihood -1.000000  0.061794  1.0  0.803683  0.003775  0.057109\n",
       "5              neyman -2.000000  0.061892  1.0  0.803530  0.003778  0.057120"
      ]
     },
     "execution_count": 8,
     "metadata": {},
     "output_type": "execute_result"
    }
   ],
   "source": [
    "exp, obs, stats = pg.chi2_independence(data=users, x=\"group\", y=\"is_canceled\")\n",
    "stats"
   ]
  },
  {
   "cell_type": "markdown",
   "id": "665a6466-30b1-4b4d-81da-6eb54d314e44",
   "metadata": {},
   "source": [
    "__Анализ различий в совершенных и отмененных заказов__"
   ]
  },
  {
   "cell_type": "code",
   "execution_count": 9,
   "id": "ffcc8fb4-d6d1-4c80-9468-4299c5626a5d",
   "metadata": {
    "scrolled": true
   },
   "outputs": [
    {
     "data": {
      "text/html": [
       "<div>\n",
       "<style scoped>\n",
       "    .dataframe tbody tr th:only-of-type {\n",
       "        vertical-align: middle;\n",
       "    }\n",
       "\n",
       "    .dataframe tbody tr th {\n",
       "        vertical-align: top;\n",
       "    }\n",
       "\n",
       "    .dataframe thead th {\n",
       "        text-align: right;\n",
       "    }\n",
       "</style>\n",
       "<table border=\"1\" class=\"dataframe\">\n",
       "  <thead>\n",
       "    <tr style=\"text-align: right;\">\n",
       "      <th>action</th>\n",
       "      <th>cancel_order</th>\n",
       "      <th>create_order</th>\n",
       "    </tr>\n",
       "    <tr>\n",
       "      <th>group</th>\n",
       "      <th></th>\n",
       "      <th></th>\n",
       "    </tr>\n",
       "  </thead>\n",
       "  <tbody>\n",
       "    <tr>\n",
       "      <th>0</th>\n",
       "      <td>82</td>\n",
       "      <td>1609</td>\n",
       "    </tr>\n",
       "    <tr>\n",
       "      <th>1</th>\n",
       "      <td>132</td>\n",
       "      <td>2514</td>\n",
       "    </tr>\n",
       "  </tbody>\n",
       "</table>\n",
       "</div>"
      ],
      "text/plain": [
       "action  cancel_order  create_order\n",
       "group                             \n",
       "0                 82          1609\n",
       "1                132          2514"
      ]
     },
     "execution_count": 9,
     "metadata": {},
     "output_type": "execute_result"
    }
   ],
   "source": [
    "actions_crosstab = pd.crosstab(users['group'], users['action'])\n",
    "actions_crosstab"
   ]
  },
  {
   "cell_type": "code",
   "execution_count": 10,
   "id": "97caf73e-314c-4a81-ad34-c5d2afae0fd3",
   "metadata": {},
   "outputs": [
    {
     "data": {
      "text/html": [
       "<div>\n",
       "<style scoped>\n",
       "    .dataframe tbody tr th:only-of-type {\n",
       "        vertical-align: middle;\n",
       "    }\n",
       "\n",
       "    .dataframe tbody tr th {\n",
       "        vertical-align: top;\n",
       "    }\n",
       "\n",
       "    .dataframe thead th {\n",
       "        text-align: right;\n",
       "    }\n",
       "</style>\n",
       "<table border=\"1\" class=\"dataframe\">\n",
       "  <thead>\n",
       "    <tr style=\"text-align: right;\">\n",
       "      <th></th>\n",
       "      <th>test</th>\n",
       "      <th>lambda</th>\n",
       "      <th>chi2</th>\n",
       "      <th>dof</th>\n",
       "      <th>pval</th>\n",
       "      <th>cramer</th>\n",
       "      <th>power</th>\n",
       "    </tr>\n",
       "  </thead>\n",
       "  <tbody>\n",
       "    <tr>\n",
       "      <th>0</th>\n",
       "      <td>pearson</td>\n",
       "      <td>1.000000</td>\n",
       "      <td>0.018211</td>\n",
       "      <td>1.0</td>\n",
       "      <td>0.892652</td>\n",
       "      <td>0.002049</td>\n",
       "      <td>0.052089</td>\n",
       "    </tr>\n",
       "    <tr>\n",
       "      <th>1</th>\n",
       "      <td>cressie-read</td>\n",
       "      <td>0.666667</td>\n",
       "      <td>0.018219</td>\n",
       "      <td>1.0</td>\n",
       "      <td>0.892629</td>\n",
       "      <td>0.002050</td>\n",
       "      <td>0.052090</td>\n",
       "    </tr>\n",
       "    <tr>\n",
       "      <th>2</th>\n",
       "      <td>log-likelihood</td>\n",
       "      <td>0.000000</td>\n",
       "      <td>0.018235</td>\n",
       "      <td>1.0</td>\n",
       "      <td>0.892583</td>\n",
       "      <td>0.002050</td>\n",
       "      <td>0.052091</td>\n",
       "    </tr>\n",
       "    <tr>\n",
       "      <th>3</th>\n",
       "      <td>freeman-tukey</td>\n",
       "      <td>-0.500000</td>\n",
       "      <td>0.018247</td>\n",
       "      <td>1.0</td>\n",
       "      <td>0.892548</td>\n",
       "      <td>0.002051</td>\n",
       "      <td>0.052093</td>\n",
       "    </tr>\n",
       "    <tr>\n",
       "      <th>4</th>\n",
       "      <td>mod-log-likelihood</td>\n",
       "      <td>-1.000000</td>\n",
       "      <td>0.018259</td>\n",
       "      <td>1.0</td>\n",
       "      <td>0.892513</td>\n",
       "      <td>0.002052</td>\n",
       "      <td>0.052094</td>\n",
       "    </tr>\n",
       "    <tr>\n",
       "      <th>5</th>\n",
       "      <td>neyman</td>\n",
       "      <td>-2.000000</td>\n",
       "      <td>0.018283</td>\n",
       "      <td>1.0</td>\n",
       "      <td>0.892442</td>\n",
       "      <td>0.002053</td>\n",
       "      <td>0.052097</td>\n",
       "    </tr>\n",
       "  </tbody>\n",
       "</table>\n",
       "</div>"
      ],
      "text/plain": [
       "                 test    lambda      chi2  dof      pval    cramer     power\n",
       "0             pearson  1.000000  0.018211  1.0  0.892652  0.002049  0.052089\n",
       "1        cressie-read  0.666667  0.018219  1.0  0.892629  0.002050  0.052090\n",
       "2      log-likelihood  0.000000  0.018235  1.0  0.892583  0.002050  0.052091\n",
       "3       freeman-tukey -0.500000  0.018247  1.0  0.892548  0.002051  0.052093\n",
       "4  mod-log-likelihood -1.000000  0.018259  1.0  0.892513  0.002052  0.052094\n",
       "5              neyman -2.000000  0.018283  1.0  0.892442  0.002053  0.052097"
      ]
     },
     "execution_count": 10,
     "metadata": {},
     "output_type": "execute_result"
    }
   ],
   "source": [
    "exp, obs, stats = pg.chi2_independence(data=users, x=\"group\", y=\"action\")\n",
    "stats"
   ]
  },
  {
   "cell_type": "code",
   "execution_count": 11,
   "id": "fee7ccd2-8dcb-43a9-a3e2-3aaa3a85c209",
   "metadata": {},
   "outputs": [
    {
     "name": "stdout",
     "output_type": "stream",
     "text": [
      "χ²: 0.018211165651942023, p-значение: 0.8926523935841298\n"
     ]
    }
   ],
   "source": [
    "chi2, p, dof, expected = chi2_contingency(actions_crosstab)\n",
    "print(f\"χ²: {chi2}, p-значение: {p}\")"
   ]
  },
  {
   "cell_type": "markdown",
   "id": "912494c7-2279-4fc2-9e8d-f099177d54a6",
   "metadata": {},
   "source": [
    "__Анализ различий во всех заказах__"
   ]
  },
  {
   "cell_type": "code",
   "execution_count": 36,
   "id": "b3701201-3f1d-45ab-8cea-6211dd51c4f7",
   "metadata": {},
   "outputs": [
    {
     "data": {
      "text/html": [
       "<div>\n",
       "<style scoped>\n",
       "    .dataframe tbody tr th:only-of-type {\n",
       "        vertical-align: middle;\n",
       "    }\n",
       "\n",
       "    .dataframe tbody tr th {\n",
       "        vertical-align: top;\n",
       "    }\n",
       "\n",
       "    .dataframe thead th {\n",
       "        text-align: right;\n",
       "    }\n",
       "</style>\n",
       "<table border=\"1\" class=\"dataframe\">\n",
       "  <thead>\n",
       "    <tr style=\"text-align: right;\">\n",
       "      <th>action</th>\n",
       "      <th>cancel_order</th>\n",
       "      <th>create_order</th>\n",
       "      <th>all_order</th>\n",
       "    </tr>\n",
       "    <tr>\n",
       "      <th>group</th>\n",
       "      <th></th>\n",
       "      <th></th>\n",
       "      <th></th>\n",
       "    </tr>\n",
       "  </thead>\n",
       "  <tbody>\n",
       "    <tr>\n",
       "      <th>0</th>\n",
       "      <td>82</td>\n",
       "      <td>1609</td>\n",
       "      <td>1691</td>\n",
       "    </tr>\n",
       "    <tr>\n",
       "      <th>1</th>\n",
       "      <td>132</td>\n",
       "      <td>2514</td>\n",
       "      <td>2646</td>\n",
       "    </tr>\n",
       "  </tbody>\n",
       "</table>\n",
       "</div>"
      ],
      "text/plain": [
       "action  cancel_order  create_order  all_order\n",
       "group                                        \n",
       "0                 82          1609       1691\n",
       "1                132          2514       2646"
      ]
     },
     "execution_count": 36,
     "metadata": {},
     "output_type": "execute_result"
    }
   ],
   "source": [
    "actions_crosstab_copy=actions_crosstab.copy()\n",
    "actions_crosstab_copy['all_order'] = actions_crosstab_copy['cancel_order'] + actions_crosstab_copy['create_order']\n",
    "actions_crosstab_copy"
   ]
  },
  {
   "cell_type": "code",
   "execution_count": 37,
   "id": "e2fbb1e0-709b-4973-a5de-feedd773a69b",
   "metadata": {},
   "outputs": [
    {
     "name": "stdout",
     "output_type": "stream",
     "text": [
      "χ²: 0.04277579068025318, p-значение: 0.9788392037546264\n"
     ]
    }
   ],
   "source": [
    "chi2, p, dof, expected = chi2_contingency(actions_crosstab_copy)\n",
    "print(f\"χ²: {chi2}, p-значение: {p}\")"
   ]
  },
  {
   "cell_type": "markdown",
   "id": "624f3bf2-1685-4f48-8777-35f712eee98b",
   "metadata": {},
   "source": [
    "__Пропорции созданных, совершенных и отмененных заказов статистически значимо не изменились__"
   ]
  },
  {
   "cell_type": "markdown",
   "id": "7df78586-e130-40e5-8717-5624b2314beb",
   "metadata": {},
   "source": [
    "## Гипотеза 2: Изменилось число заказов на пользователя"
   ]
  },
  {
   "cell_type": "code",
   "execution_count": 12,
   "id": "655f0585-a3f0-4e7e-9f6c-20f2b1ecc23b",
   "metadata": {},
   "outputs": [
    {
     "data": {
      "text/html": [
       "<div>\n",
       "<style scoped>\n",
       "    .dataframe tbody tr th:only-of-type {\n",
       "        vertical-align: middle;\n",
       "    }\n",
       "\n",
       "    .dataframe tbody tr th {\n",
       "        vertical-align: top;\n",
       "    }\n",
       "\n",
       "    .dataframe thead th {\n",
       "        text-align: right;\n",
       "    }\n",
       "</style>\n",
       "<table border=\"1\" class=\"dataframe\">\n",
       "  <thead>\n",
       "    <tr style=\"text-align: right;\">\n",
       "      <th></th>\n",
       "      <th>user_id</th>\n",
       "      <th>order_id</th>\n",
       "      <th>action</th>\n",
       "      <th>time</th>\n",
       "      <th>date</th>\n",
       "      <th>group</th>\n",
       "    </tr>\n",
       "  </thead>\n",
       "  <tbody>\n",
       "    <tr>\n",
       "      <th>0</th>\n",
       "      <td>964</td>\n",
       "      <td>1255</td>\n",
       "      <td>create_order</td>\n",
       "      <td>2022-08-26 00:00:19.000000</td>\n",
       "      <td>2022-08-26</td>\n",
       "      <td>0</td>\n",
       "    </tr>\n",
       "    <tr>\n",
       "      <th>1</th>\n",
       "      <td>965</td>\n",
       "      <td>1256</td>\n",
       "      <td>create_order</td>\n",
       "      <td>2022-08-26 00:02:21.000000</td>\n",
       "      <td>2022-08-26</td>\n",
       "      <td>1</td>\n",
       "    </tr>\n",
       "    <tr>\n",
       "      <th>2</th>\n",
       "      <td>964</td>\n",
       "      <td>1257</td>\n",
       "      <td>create_order</td>\n",
       "      <td>2022-08-26 00:02:27.000000</td>\n",
       "      <td>2022-08-26</td>\n",
       "      <td>0</td>\n",
       "    </tr>\n",
       "    <tr>\n",
       "      <th>3</th>\n",
       "      <td>966</td>\n",
       "      <td>1258</td>\n",
       "      <td>create_order</td>\n",
       "      <td>2022-08-26 00:02:56.000000</td>\n",
       "      <td>2022-08-26</td>\n",
       "      <td>0</td>\n",
       "    </tr>\n",
       "    <tr>\n",
       "      <th>4</th>\n",
       "      <td>967</td>\n",
       "      <td>1259</td>\n",
       "      <td>create_order</td>\n",
       "      <td>2022-08-26 00:03:37.000000</td>\n",
       "      <td>2022-08-26</td>\n",
       "      <td>1</td>\n",
       "    </tr>\n",
       "    <tr>\n",
       "      <th>...</th>\n",
       "      <td>...</td>\n",
       "      <td>...</td>\n",
       "      <td>...</td>\n",
       "      <td>...</td>\n",
       "      <td>...</td>\n",
       "      <td>...</td>\n",
       "    </tr>\n",
       "    <tr>\n",
       "      <th>4332</th>\n",
       "      <td>990</td>\n",
       "      <td>59422</td>\n",
       "      <td>create_order</td>\n",
       "      <td>2022-09-08 23:13:03.000000</td>\n",
       "      <td>2022-09-08</td>\n",
       "      <td>1</td>\n",
       "    </tr>\n",
       "    <tr>\n",
       "      <th>4333</th>\n",
       "      <td>1418</td>\n",
       "      <td>59439</td>\n",
       "      <td>create_order</td>\n",
       "      <td>2022-09-08 23:18:05.000000</td>\n",
       "      <td>2022-09-08</td>\n",
       "      <td>1</td>\n",
       "    </tr>\n",
       "    <tr>\n",
       "      <th>4334</th>\n",
       "      <td>1605</td>\n",
       "      <td>59464</td>\n",
       "      <td>create_order</td>\n",
       "      <td>2022-09-08 23:22:27.000000</td>\n",
       "      <td>2022-09-08</td>\n",
       "      <td>0</td>\n",
       "    </tr>\n",
       "    <tr>\n",
       "      <th>4335</th>\n",
       "      <td>1461</td>\n",
       "      <td>59487</td>\n",
       "      <td>create_order</td>\n",
       "      <td>2022-09-08 23:29:06.000000</td>\n",
       "      <td>2022-09-08</td>\n",
       "      <td>0</td>\n",
       "    </tr>\n",
       "    <tr>\n",
       "      <th>4336</th>\n",
       "      <td>1376</td>\n",
       "      <td>59533</td>\n",
       "      <td>create_order</td>\n",
       "      <td>2022-09-08 23:41:24.000000</td>\n",
       "      <td>2022-09-08</td>\n",
       "      <td>0</td>\n",
       "    </tr>\n",
       "  </tbody>\n",
       "</table>\n",
       "<p>4123 rows × 6 columns</p>\n",
       "</div>"
      ],
      "text/plain": [
       "      user_id  order_id        action                        time        date  \\\n",
       "0         964      1255  create_order  2022-08-26 00:00:19.000000  2022-08-26   \n",
       "1         965      1256  create_order  2022-08-26 00:02:21.000000  2022-08-26   \n",
       "2         964      1257  create_order  2022-08-26 00:02:27.000000  2022-08-26   \n",
       "3         966      1258  create_order  2022-08-26 00:02:56.000000  2022-08-26   \n",
       "4         967      1259  create_order  2022-08-26 00:03:37.000000  2022-08-26   \n",
       "...       ...       ...           ...                         ...         ...   \n",
       "4332      990     59422  create_order  2022-09-08 23:13:03.000000  2022-09-08   \n",
       "4333     1418     59439  create_order  2022-09-08 23:18:05.000000  2022-09-08   \n",
       "4334     1605     59464  create_order  2022-09-08 23:22:27.000000  2022-09-08   \n",
       "4335     1461     59487  create_order  2022-09-08 23:29:06.000000  2022-09-08   \n",
       "4336     1376     59533  create_order  2022-09-08 23:41:24.000000  2022-09-08   \n",
       "\n",
       "      group  \n",
       "0         0  \n",
       "1         1  \n",
       "2         0  \n",
       "3         0  \n",
       "4         1  \n",
       "...     ...  \n",
       "4332      1  \n",
       "4333      1  \n",
       "4334      0  \n",
       "4335      0  \n",
       "4336      0  \n",
       "\n",
       "[4123 rows x 6 columns]"
      ]
     },
     "execution_count": 12,
     "metadata": {},
     "output_type": "execute_result"
    }
   ],
   "source": [
    "users_1 = users.query(\"action == 'create_order'\")[['user_id', 'order_id', 'action', 'time', 'date',\t'group']]\t\n",
    "users_1"
   ]
  },
  {
   "cell_type": "code",
   "execution_count": 56,
   "id": "84469b68-d54d-4994-a9ac-bea358933f2a",
   "metadata": {},
   "outputs": [
    {
     "data": {
      "text/plain": [
       "user_id\n",
       "1170    13\n",
       "1533    13\n",
       "1641    13\n",
       "1583    12\n",
       "1537    12\n",
       "        ..\n",
       "1395     1\n",
       "1853     1\n",
       "1385     1\n",
       "1381     1\n",
       "1472     1\n",
       "Name: count, Length: 1017, dtype: int64"
      ]
     },
     "execution_count": 56,
     "metadata": {},
     "output_type": "execute_result"
    }
   ],
   "source": [
    "users_1['user_id'].value_counts()"
   ]
  },
  {
   "cell_type": "code",
   "execution_count": 13,
   "id": "cf1854cf-d625-4b95-a81c-1e6c33d2c74d",
   "metadata": {},
   "outputs": [
    {
     "data": {
      "text/html": [
       "<div>\n",
       "<style scoped>\n",
       "    .dataframe tbody tr th:only-of-type {\n",
       "        vertical-align: middle;\n",
       "    }\n",
       "\n",
       "    .dataframe tbody tr th {\n",
       "        vertical-align: top;\n",
       "    }\n",
       "\n",
       "    .dataframe thead th {\n",
       "        text-align: right;\n",
       "    }\n",
       "</style>\n",
       "<table border=\"1\" class=\"dataframe\">\n",
       "  <thead>\n",
       "    <tr style=\"text-align: right;\">\n",
       "      <th></th>\n",
       "      <th>group</th>\n",
       "      <th>user_id</th>\n",
       "      <th>size</th>\n",
       "    </tr>\n",
       "  </thead>\n",
       "  <tbody>\n",
       "    <tr>\n",
       "      <th>0</th>\n",
       "      <td>0</td>\n",
       "      <td>964</td>\n",
       "      <td>2</td>\n",
       "    </tr>\n",
       "    <tr>\n",
       "      <th>1</th>\n",
       "      <td>0</td>\n",
       "      <td>966</td>\n",
       "      <td>1</td>\n",
       "    </tr>\n",
       "    <tr>\n",
       "      <th>2</th>\n",
       "      <td>0</td>\n",
       "      <td>968</td>\n",
       "      <td>3</td>\n",
       "    </tr>\n",
       "    <tr>\n",
       "      <th>3</th>\n",
       "      <td>0</td>\n",
       "      <td>969</td>\n",
       "      <td>2</td>\n",
       "    </tr>\n",
       "    <tr>\n",
       "      <th>4</th>\n",
       "      <td>0</td>\n",
       "      <td>972</td>\n",
       "      <td>1</td>\n",
       "    </tr>\n",
       "    <tr>\n",
       "      <th>...</th>\n",
       "      <td>...</td>\n",
       "      <td>...</td>\n",
       "      <td>...</td>\n",
       "    </tr>\n",
       "    <tr>\n",
       "      <th>1012</th>\n",
       "      <td>1</td>\n",
       "      <td>1976</td>\n",
       "      <td>5</td>\n",
       "    </tr>\n",
       "    <tr>\n",
       "      <th>1013</th>\n",
       "      <td>1</td>\n",
       "      <td>1977</td>\n",
       "      <td>4</td>\n",
       "    </tr>\n",
       "    <tr>\n",
       "      <th>1014</th>\n",
       "      <td>1</td>\n",
       "      <td>1978</td>\n",
       "      <td>7</td>\n",
       "    </tr>\n",
       "    <tr>\n",
       "      <th>1015</th>\n",
       "      <td>1</td>\n",
       "      <td>1979</td>\n",
       "      <td>6</td>\n",
       "    </tr>\n",
       "    <tr>\n",
       "      <th>1016</th>\n",
       "      <td>1</td>\n",
       "      <td>1980</td>\n",
       "      <td>7</td>\n",
       "    </tr>\n",
       "  </tbody>\n",
       "</table>\n",
       "<p>1017 rows × 3 columns</p>\n",
       "</div>"
      ],
      "text/plain": [
       "      group  user_id  size\n",
       "0         0      964     2\n",
       "1         0      966     1\n",
       "2         0      968     3\n",
       "3         0      969     2\n",
       "4         0      972     1\n",
       "...     ...      ...   ...\n",
       "1012      1     1976     5\n",
       "1013      1     1977     4\n",
       "1014      1     1978     7\n",
       "1015      1     1979     6\n",
       "1016      1     1980     7\n",
       "\n",
       "[1017 rows x 3 columns]"
      ]
     },
     "execution_count": 13,
     "metadata": {},
     "output_type": "execute_result"
    }
   ],
   "source": [
    "ord_per_user = users_1.groupby([\"group\", \"user_id\"], as_index=False).size()\n",
    "ord_per_user\n",
    "# Подсчитали количество заказов на каждого пользователя с помощью метода .size()"
   ]
  },
  {
   "cell_type": "code",
   "execution_count": 74,
   "id": "1e37f72f-77d3-4c47-a885-69201b4ebfb6",
   "metadata": {},
   "outputs": [
    {
     "data": {
      "text/plain": [
       "count    515.000000\n",
       "mean       3.124272\n",
       "std        1.922651\n",
       "min        1.000000\n",
       "25%        2.000000\n",
       "50%        3.000000\n",
       "75%        4.000000\n",
       "max       13.000000\n",
       "Name: size, dtype: float64"
      ]
     },
     "execution_count": 74,
     "metadata": {},
     "output_type": "execute_result"
    }
   ],
   "source": [
    "ord_per_user.query('group == 0')['size'].describe()"
   ]
  },
  {
   "cell_type": "code",
   "execution_count": 75,
   "id": "cd53aa42-a732-433b-a813-81eee8769fce",
   "metadata": {},
   "outputs": [
    {
     "data": {
      "text/plain": [
       "count    502.000000\n",
       "mean       5.007968\n",
       "std        2.210467\n",
       "min        1.000000\n",
       "25%        4.000000\n",
       "50%        5.000000\n",
       "75%        6.000000\n",
       "max       13.000000\n",
       "Name: size, dtype: float64"
      ]
     },
     "execution_count": 75,
     "metadata": {},
     "output_type": "execute_result"
    }
   ],
   "source": [
    "ord_per_user.query('group == 1')['size'].describe()"
   ]
  },
  {
   "cell_type": "code",
   "execution_count": 60,
   "id": "1884d64c-3a47-47a0-ab57-d47e6b8dfba2",
   "metadata": {},
   "outputs": [
    {
     "data": {
      "text/plain": [
       "<Axes: xlabel='size', ylabel='count'>"
      ]
     },
     "execution_count": 60,
     "metadata": {},
     "output_type": "execute_result"
    },
    {
     "data": {
      "image/png": "[encoded data removed]",
      "text/plain": [
       "<Figure size 640x480 with 1 Axes>"
      ]
     },
     "metadata": {},
     "output_type": "display_data"
    }
   ],
   "source": [
    "sns.countplot(data=ord_per_user, x=\"size\", hue=\"group\")"
   ]
  },
  {
   "cell_type": "code",
   "execution_count": 66,
   "id": "0c11837a-901e-4875-8f1a-f66e1ea908fc",
   "metadata": {},
   "outputs": [
    {
     "data": {
      "text/html": [
       "<div>\n",
       "<style scoped>\n",
       "    .dataframe tbody tr th:only-of-type {\n",
       "        vertical-align: middle;\n",
       "    }\n",
       "\n",
       "    .dataframe tbody tr th {\n",
       "        vertical-align: top;\n",
       "    }\n",
       "\n",
       "    .dataframe thead th {\n",
       "        text-align: right;\n",
       "    }\n",
       "</style>\n",
       "<table border=\"1\" class=\"dataframe\">\n",
       "  <thead>\n",
       "    <tr style=\"text-align: right;\">\n",
       "      <th></th>\n",
       "      <th>T</th>\n",
       "      <th>dof</th>\n",
       "      <th>alternative</th>\n",
       "      <th>p-val</th>\n",
       "      <th>CI95%</th>\n",
       "      <th>cohen-d</th>\n",
       "      <th>BF10</th>\n",
       "      <th>power</th>\n",
       "    </tr>\n",
       "  </thead>\n",
       "  <tbody>\n",
       "    <tr>\n",
       "      <th>T-test</th>\n",
       "      <td>-14.485157</td>\n",
       "      <td>988.435475</td>\n",
       "      <td>two-sided</td>\n",
       "      <td>2.907783e-43</td>\n",
       "      <td>[-2.14, -1.63]</td>\n",
       "      <td>0.910119</td>\n",
       "      <td>7.663e+39</td>\n",
       "      <td>1.0</td>\n",
       "    </tr>\n",
       "  </tbody>\n",
       "</table>\n",
       "</div>"
      ],
      "text/plain": [
       "                T         dof alternative         p-val           CI95%  \\\n",
       "T-test -14.485157  988.435475   two-sided  2.907783e-43  [-2.14, -1.63]   \n",
       "\n",
       "         cohen-d       BF10  power  \n",
       "T-test  0.910119  7.663e+39    1.0  "
      ]
     },
     "execution_count": 66,
     "metadata": {},
     "output_type": "execute_result"
    }
   ],
   "source": [
    "pg.ttest(x=ord_per_user.query(\"group==0\")[\"size\"], \n",
    "         y=ord_per_user.query(\"group==1\")[\"size\"])\n",
    "# В среднем пользователи из тестовой группы делают на ~ 2 заказа больше чем пользователи из контрольной группы"
   ]
  },
  {
   "cell_type": "code",
   "execution_count": 77,
   "id": "bb564534-1c24-468a-9267-f7e9dc8a433b",
   "metadata": {},
   "outputs": [
    {
     "data": {
      "text/html": [
       "<div>\n",
       "<style scoped>\n",
       "    .dataframe tbody tr th:only-of-type {\n",
       "        vertical-align: middle;\n",
       "    }\n",
       "\n",
       "    .dataframe tbody tr th {\n",
       "        vertical-align: top;\n",
       "    }\n",
       "\n",
       "    .dataframe thead th {\n",
       "        text-align: right;\n",
       "    }\n",
       "</style>\n",
       "<table border=\"1\" class=\"dataframe\">\n",
       "  <thead>\n",
       "    <tr style=\"text-align: right;\">\n",
       "      <th></th>\n",
       "      <th>U-val</th>\n",
       "      <th>alternative</th>\n",
       "      <th>p-val</th>\n",
       "      <th>RBC</th>\n",
       "      <th>CLES</th>\n",
       "    </tr>\n",
       "  </thead>\n",
       "  <tbody>\n",
       "    <tr>\n",
       "      <th>MWU</th>\n",
       "      <td>61172.5</td>\n",
       "      <td>two-sided</td>\n",
       "      <td>6.987140e-49</td>\n",
       "      <td>0.526767</td>\n",
       "      <td>0.236617</td>\n",
       "    </tr>\n",
       "  </tbody>\n",
       "</table>\n",
       "</div>"
      ],
      "text/plain": [
       "       U-val alternative         p-val       RBC      CLES\n",
       "MWU  61172.5   two-sided  6.987140e-49  0.526767  0.236617"
      ]
     },
     "execution_count": 77,
     "metadata": {},
     "output_type": "execute_result"
    }
   ],
   "source": [
    "pg.mwu(x=ord_per_user.query(\"group==0\")[\"size\"], \n",
    "         y=ord_per_user.query(\"group==1\")[\"size\"])\n",
    "#Манн-Уитни показывает, что при схожих распределениях, тест показывает какова вероятность, что  случайно взятые данные из первой группы (контрольной) будут больше данные из второй \n",
    "# CLES = 0.24 - 24% вероятности (меньше 50% - незначимл)"
   ]
  },
  {
   "cell_type": "markdown",
   "id": "be2f5555-e1fa-4491-b379-f6f77293355e",
   "metadata": {},
   "source": [
    "__Число заказов на пользователя увеличилось статистически значимо__:\\\n",
    "_В среднем пользователи из тестовой группы делают на ~ 2 заказа больше чем пользователи из контрольной группы_"
   ]
  },
  {
   "cell_type": "markdown",
   "id": "d836a3c6-e392-416c-9d17-221040e83625",
   "metadata": {},
   "source": [
    "## Гипотеза 3: Изменилась стоимость заказа"
   ]
  },
  {
   "cell_type": "code",
   "execution_count": 14,
   "id": "b3ea3f16-e5c8-484c-b227-dfc2c86b041d",
   "metadata": {},
   "outputs": [
    {
     "data": {
      "text/html": [
       "<div>\n",
       "<style scoped>\n",
       "    .dataframe tbody tr th:only-of-type {\n",
       "        vertical-align: middle;\n",
       "    }\n",
       "\n",
       "    .dataframe tbody tr th {\n",
       "        vertical-align: top;\n",
       "    }\n",
       "\n",
       "    .dataframe thead th {\n",
       "        text-align: right;\n",
       "    }\n",
       "</style>\n",
       "<table border=\"1\" class=\"dataframe\">\n",
       "  <thead>\n",
       "    <tr style=\"text-align: right;\">\n",
       "      <th></th>\n",
       "      <th>user_id</th>\n",
       "      <th>order_id</th>\n",
       "      <th>group</th>\n",
       "      <th>creation_time</th>\n",
       "      <th>product_ids</th>\n",
       "    </tr>\n",
       "  </thead>\n",
       "  <tbody>\n",
       "    <tr>\n",
       "      <th>0</th>\n",
       "      <td>964</td>\n",
       "      <td>1255</td>\n",
       "      <td>0</td>\n",
       "      <td>2022-08-26 00:00:19.000000</td>\n",
       "      <td>{75, 22, 53, 84}</td>\n",
       "    </tr>\n",
       "    <tr>\n",
       "      <th>1</th>\n",
       "      <td>965</td>\n",
       "      <td>1256</td>\n",
       "      <td>1</td>\n",
       "      <td>2022-08-26 00:02:21.000000</td>\n",
       "      <td>{56, 76, 39}</td>\n",
       "    </tr>\n",
       "    <tr>\n",
       "      <th>2</th>\n",
       "      <td>964</td>\n",
       "      <td>1257</td>\n",
       "      <td>0</td>\n",
       "      <td>2022-08-26 00:02:27.000000</td>\n",
       "      <td>{76, 34, 41, 38}</td>\n",
       "    </tr>\n",
       "    <tr>\n",
       "      <th>3</th>\n",
       "      <td>966</td>\n",
       "      <td>1258</td>\n",
       "      <td>0</td>\n",
       "      <td>2022-08-26 00:02:56.000000</td>\n",
       "      <td>{74, 6}</td>\n",
       "    </tr>\n",
       "    <tr>\n",
       "      <th>4</th>\n",
       "      <td>967</td>\n",
       "      <td>1259</td>\n",
       "      <td>1</td>\n",
       "      <td>2022-08-26 00:03:37.000000</td>\n",
       "      <td>{20, 45, 67, 26}</td>\n",
       "    </tr>\n",
       "    <tr>\n",
       "      <th>...</th>\n",
       "      <td>...</td>\n",
       "      <td>...</td>\n",
       "      <td>...</td>\n",
       "      <td>...</td>\n",
       "      <td>...</td>\n",
       "    </tr>\n",
       "    <tr>\n",
       "      <th>4118</th>\n",
       "      <td>990</td>\n",
       "      <td>59422</td>\n",
       "      <td>1</td>\n",
       "      <td>2022-09-08 23:13:03.000000</td>\n",
       "      <td>{84, 8, 24}</td>\n",
       "    </tr>\n",
       "    <tr>\n",
       "      <th>4119</th>\n",
       "      <td>1418</td>\n",
       "      <td>59439</td>\n",
       "      <td>1</td>\n",
       "      <td>2022-09-08 23:18:05.000000</td>\n",
       "      <td>{9, 25, 75, 30, 6}</td>\n",
       "    </tr>\n",
       "    <tr>\n",
       "      <th>4120</th>\n",
       "      <td>1605</td>\n",
       "      <td>59464</td>\n",
       "      <td>0</td>\n",
       "      <td>2022-09-08 23:22:27.000000</td>\n",
       "      <td>{60, 41, 46}</td>\n",
       "    </tr>\n",
       "    <tr>\n",
       "      <th>4121</th>\n",
       "      <td>1461</td>\n",
       "      <td>59487</td>\n",
       "      <td>0</td>\n",
       "      <td>2022-09-08 23:29:06.000000</td>\n",
       "      <td>{9, 62, 77}</td>\n",
       "    </tr>\n",
       "    <tr>\n",
       "      <th>4122</th>\n",
       "      <td>1376</td>\n",
       "      <td>59533</td>\n",
       "      <td>0</td>\n",
       "      <td>2022-09-08 23:41:24.000000</td>\n",
       "      <td>{17, 85}</td>\n",
       "    </tr>\n",
       "  </tbody>\n",
       "</table>\n",
       "<p>4123 rows × 5 columns</p>\n",
       "</div>"
      ],
      "text/plain": [
       "      user_id  order_id  group               creation_time         product_ids\n",
       "0         964      1255      0  2022-08-26 00:00:19.000000    {75, 22, 53, 84}\n",
       "1         965      1256      1  2022-08-26 00:02:21.000000        {56, 76, 39}\n",
       "2         964      1257      0  2022-08-26 00:02:27.000000    {76, 34, 41, 38}\n",
       "3         966      1258      0  2022-08-26 00:02:56.000000             {74, 6}\n",
       "4         967      1259      1  2022-08-26 00:03:37.000000    {20, 45, 67, 26}\n",
       "...       ...       ...    ...                         ...                 ...\n",
       "4118      990     59422      1  2022-09-08 23:13:03.000000         {84, 8, 24}\n",
       "4119     1418     59439      1  2022-09-08 23:18:05.000000  {9, 25, 75, 30, 6}\n",
       "4120     1605     59464      0  2022-09-08 23:22:27.000000        {60, 41, 46}\n",
       "4121     1461     59487      0  2022-09-08 23:29:06.000000         {9, 62, 77}\n",
       "4122     1376     59533      0  2022-09-08 23:41:24.000000            {17, 85}\n",
       "\n",
       "[4123 rows x 5 columns]"
      ]
     },
     "execution_count": 14,
     "metadata": {},
     "output_type": "execute_result"
    }
   ],
   "source": [
    "user_order = users_1[[\"user_id\", \"order_id\", \"group\"]].merge(orders)\n",
    "user_order"
   ]
  },
  {
   "cell_type": "code",
   "execution_count": 15,
   "id": "5b556eb2-2020-4a20-be10-285712a583b7",
   "metadata": {},
   "outputs": [
    {
     "data": {
      "text/plain": [
       "0          [75,  22,  53,  84]\n",
       "1               [56,  76,  39]\n",
       "2          [76,  34,  41,  38]\n",
       "3                     [74,  6]\n",
       "4          [20,  45,  67,  26]\n",
       "                 ...          \n",
       "4118             [84,  8,  24]\n",
       "4119    [9,  25,  75,  30,  6]\n",
       "4120            [60,  41,  46]\n",
       "4121             [9,  62,  77]\n",
       "4122                 [17,  85]\n",
       "Name: product_ids, Length: 4123, dtype: object"
      ]
     },
     "execution_count": 15,
     "metadata": {},
     "output_type": "execute_result"
    }
   ],
   "source": [
    "user_order['product_ids'] = user_order['product_ids'].str.replace('{','').str.replace('}','').str.split(',')\n",
    "user_order['product_ids']"
   ]
  },
  {
   "cell_type": "code",
   "execution_count": 16,
   "id": "4aa5e2a9-a770-4f68-a258-4964822e1d3b",
   "metadata": {},
   "outputs": [
    {
     "data": {
      "text/html": [
       "<div>\n",
       "<style scoped>\n",
       "    .dataframe tbody tr th:only-of-type {\n",
       "        vertical-align: middle;\n",
       "    }\n",
       "\n",
       "    .dataframe tbody tr th {\n",
       "        vertical-align: top;\n",
       "    }\n",
       "\n",
       "    .dataframe thead th {\n",
       "        text-align: right;\n",
       "    }\n",
       "</style>\n",
       "<table border=\"1\" class=\"dataframe\">\n",
       "  <thead>\n",
       "    <tr style=\"text-align: right;\">\n",
       "      <th></th>\n",
       "      <th>user_id</th>\n",
       "      <th>order_id</th>\n",
       "      <th>group</th>\n",
       "      <th>creation_time</th>\n",
       "      <th>product_ids</th>\n",
       "    </tr>\n",
       "  </thead>\n",
       "  <tbody>\n",
       "    <tr>\n",
       "      <th>0</th>\n",
       "      <td>964</td>\n",
       "      <td>1255</td>\n",
       "      <td>0</td>\n",
       "      <td>2022-08-26 00:00:19.000000</td>\n",
       "      <td>75</td>\n",
       "    </tr>\n",
       "    <tr>\n",
       "      <th>0</th>\n",
       "      <td>964</td>\n",
       "      <td>1255</td>\n",
       "      <td>0</td>\n",
       "      <td>2022-08-26 00:00:19.000000</td>\n",
       "      <td>22</td>\n",
       "    </tr>\n",
       "    <tr>\n",
       "      <th>0</th>\n",
       "      <td>964</td>\n",
       "      <td>1255</td>\n",
       "      <td>0</td>\n",
       "      <td>2022-08-26 00:00:19.000000</td>\n",
       "      <td>53</td>\n",
       "    </tr>\n",
       "    <tr>\n",
       "      <th>0</th>\n",
       "      <td>964</td>\n",
       "      <td>1255</td>\n",
       "      <td>0</td>\n",
       "      <td>2022-08-26 00:00:19.000000</td>\n",
       "      <td>84</td>\n",
       "    </tr>\n",
       "    <tr>\n",
       "      <th>1</th>\n",
       "      <td>965</td>\n",
       "      <td>1256</td>\n",
       "      <td>1</td>\n",
       "      <td>2022-08-26 00:02:21.000000</td>\n",
       "      <td>56</td>\n",
       "    </tr>\n",
       "    <tr>\n",
       "      <th>...</th>\n",
       "      <td>...</td>\n",
       "      <td>...</td>\n",
       "      <td>...</td>\n",
       "      <td>...</td>\n",
       "      <td>...</td>\n",
       "    </tr>\n",
       "    <tr>\n",
       "      <th>4121</th>\n",
       "      <td>1461</td>\n",
       "      <td>59487</td>\n",
       "      <td>0</td>\n",
       "      <td>2022-09-08 23:29:06.000000</td>\n",
       "      <td>9</td>\n",
       "    </tr>\n",
       "    <tr>\n",
       "      <th>4121</th>\n",
       "      <td>1461</td>\n",
       "      <td>59487</td>\n",
       "      <td>0</td>\n",
       "      <td>2022-09-08 23:29:06.000000</td>\n",
       "      <td>62</td>\n",
       "    </tr>\n",
       "    <tr>\n",
       "      <th>4121</th>\n",
       "      <td>1461</td>\n",
       "      <td>59487</td>\n",
       "      <td>0</td>\n",
       "      <td>2022-09-08 23:29:06.000000</td>\n",
       "      <td>77</td>\n",
       "    </tr>\n",
       "    <tr>\n",
       "      <th>4122</th>\n",
       "      <td>1376</td>\n",
       "      <td>59533</td>\n",
       "      <td>0</td>\n",
       "      <td>2022-09-08 23:41:24.000000</td>\n",
       "      <td>17</td>\n",
       "    </tr>\n",
       "    <tr>\n",
       "      <th>4122</th>\n",
       "      <td>1376</td>\n",
       "      <td>59533</td>\n",
       "      <td>0</td>\n",
       "      <td>2022-09-08 23:41:24.000000</td>\n",
       "      <td>85</td>\n",
       "    </tr>\n",
       "  </tbody>\n",
       "</table>\n",
       "<p>13826 rows × 5 columns</p>\n",
       "</div>"
      ],
      "text/plain": [
       "      user_id  order_id  group               creation_time product_ids\n",
       "0         964      1255      0  2022-08-26 00:00:19.000000          75\n",
       "0         964      1255      0  2022-08-26 00:00:19.000000          22\n",
       "0         964      1255      0  2022-08-26 00:00:19.000000          53\n",
       "0         964      1255      0  2022-08-26 00:00:19.000000          84\n",
       "1         965      1256      1  2022-08-26 00:02:21.000000          56\n",
       "...       ...       ...    ...                         ...         ...\n",
       "4121     1461     59487      0  2022-09-08 23:29:06.000000           9\n",
       "4121     1461     59487      0  2022-09-08 23:29:06.000000          62\n",
       "4121     1461     59487      0  2022-09-08 23:29:06.000000          77\n",
       "4122     1376     59533      0  2022-09-08 23:41:24.000000          17\n",
       "4122     1376     59533      0  2022-09-08 23:41:24.000000          85\n",
       "\n",
       "[13826 rows x 5 columns]"
      ]
     },
     "execution_count": 16,
     "metadata": {},
     "output_type": "execute_result"
    }
   ],
   "source": [
    "user_orders = user_order.explode(\"product_ids\")\n",
    "user_orders"
   ]
  },
  {
   "cell_type": "code",
   "execution_count": 17,
   "id": "c125f3f1-9297-4bce-8c6c-1316e9251deb",
   "metadata": {},
   "outputs": [],
   "source": [
    "user_orders['product_ids'] = user_orders['product_ids'].astype('int64')"
   ]
  },
  {
   "cell_type": "code",
   "execution_count": 18,
   "id": "d2fe5b20-7160-4258-bc41-e5c63d99c2cb",
   "metadata": {},
   "outputs": [
    {
     "data": {
      "text/html": [
       "<div>\n",
       "<style scoped>\n",
       "    .dataframe tbody tr th:only-of-type {\n",
       "        vertical-align: middle;\n",
       "    }\n",
       "\n",
       "    .dataframe tbody tr th {\n",
       "        vertical-align: top;\n",
       "    }\n",
       "\n",
       "    .dataframe thead th {\n",
       "        text-align: right;\n",
       "    }\n",
       "</style>\n",
       "<table border=\"1\" class=\"dataframe\">\n",
       "  <thead>\n",
       "    <tr style=\"text-align: right;\">\n",
       "      <th></th>\n",
       "      <th>user_id</th>\n",
       "      <th>order_id</th>\n",
       "      <th>group</th>\n",
       "      <th>creation_time</th>\n",
       "      <th>product_ids</th>\n",
       "      <th>product_id</th>\n",
       "      <th>name</th>\n",
       "      <th>price</th>\n",
       "    </tr>\n",
       "  </thead>\n",
       "  <tbody>\n",
       "    <tr>\n",
       "      <th>0</th>\n",
       "      <td>964</td>\n",
       "      <td>1255</td>\n",
       "      <td>0</td>\n",
       "      <td>2022-08-26 00:00:19.000000</td>\n",
       "      <td>75</td>\n",
       "      <td>75</td>\n",
       "      <td>сок ананасовый</td>\n",
       "      <td>120.0</td>\n",
       "    </tr>\n",
       "    <tr>\n",
       "      <th>1</th>\n",
       "      <td>964</td>\n",
       "      <td>1255</td>\n",
       "      <td>0</td>\n",
       "      <td>2022-08-26 00:00:19.000000</td>\n",
       "      <td>22</td>\n",
       "      <td>22</td>\n",
       "      <td>сок мультифрукт</td>\n",
       "      <td>120.0</td>\n",
       "    </tr>\n",
       "    <tr>\n",
       "      <th>2</th>\n",
       "      <td>964</td>\n",
       "      <td>1255</td>\n",
       "      <td>0</td>\n",
       "      <td>2022-08-26 00:00:19.000000</td>\n",
       "      <td>53</td>\n",
       "      <td>53</td>\n",
       "      <td>мука</td>\n",
       "      <td>78.3</td>\n",
       "    </tr>\n",
       "    <tr>\n",
       "      <th>3</th>\n",
       "      <td>964</td>\n",
       "      <td>1255</td>\n",
       "      <td>0</td>\n",
       "      <td>2022-08-26 00:00:19.000000</td>\n",
       "      <td>84</td>\n",
       "      <td>84</td>\n",
       "      <td>мандарины</td>\n",
       "      <td>90.4</td>\n",
       "    </tr>\n",
       "    <tr>\n",
       "      <th>4</th>\n",
       "      <td>965</td>\n",
       "      <td>1256</td>\n",
       "      <td>1</td>\n",
       "      <td>2022-08-26 00:02:21.000000</td>\n",
       "      <td>56</td>\n",
       "      <td>56</td>\n",
       "      <td>сосиски</td>\n",
       "      <td>150.0</td>\n",
       "    </tr>\n",
       "    <tr>\n",
       "      <th>...</th>\n",
       "      <td>...</td>\n",
       "      <td>...</td>\n",
       "      <td>...</td>\n",
       "      <td>...</td>\n",
       "      <td>...</td>\n",
       "      <td>...</td>\n",
       "      <td>...</td>\n",
       "      <td>...</td>\n",
       "    </tr>\n",
       "    <tr>\n",
       "      <th>13821</th>\n",
       "      <td>1461</td>\n",
       "      <td>59487</td>\n",
       "      <td>0</td>\n",
       "      <td>2022-09-08 23:29:06.000000</td>\n",
       "      <td>9</td>\n",
       "      <td>9</td>\n",
       "      <td>чай черный листовой</td>\n",
       "      <td>83.5</td>\n",
       "    </tr>\n",
       "    <tr>\n",
       "      <th>13822</th>\n",
       "      <td>1461</td>\n",
       "      <td>59487</td>\n",
       "      <td>0</td>\n",
       "      <td>2022-09-08 23:29:06.000000</td>\n",
       "      <td>62</td>\n",
       "      <td>62</td>\n",
       "      <td>сок яблочный</td>\n",
       "      <td>120.0</td>\n",
       "    </tr>\n",
       "    <tr>\n",
       "      <th>13823</th>\n",
       "      <td>1461</td>\n",
       "      <td>59487</td>\n",
       "      <td>0</td>\n",
       "      <td>2022-09-08 23:29:06.000000</td>\n",
       "      <td>77</td>\n",
       "      <td>77</td>\n",
       "      <td>курица</td>\n",
       "      <td>298.4</td>\n",
       "    </tr>\n",
       "    <tr>\n",
       "      <th>13824</th>\n",
       "      <td>1376</td>\n",
       "      <td>59533</td>\n",
       "      <td>0</td>\n",
       "      <td>2022-09-08 23:41:24.000000</td>\n",
       "      <td>17</td>\n",
       "      <td>17</td>\n",
       "      <td>морс брусничный</td>\n",
       "      <td>190.0</td>\n",
       "    </tr>\n",
       "    <tr>\n",
       "      <th>13825</th>\n",
       "      <td>1376</td>\n",
       "      <td>59533</td>\n",
       "      <td>0</td>\n",
       "      <td>2022-09-08 23:41:24.000000</td>\n",
       "      <td>85</td>\n",
       "      <td>85</td>\n",
       "      <td>варенье</td>\n",
       "      <td>200.3</td>\n",
       "    </tr>\n",
       "  </tbody>\n",
       "</table>\n",
       "<p>13826 rows × 8 columns</p>\n",
       "</div>"
      ],
      "text/plain": [
       "       user_id  order_id  group               creation_time  product_ids  \\\n",
       "0          964      1255      0  2022-08-26 00:00:19.000000           75   \n",
       "1          964      1255      0  2022-08-26 00:00:19.000000           22   \n",
       "2          964      1255      0  2022-08-26 00:00:19.000000           53   \n",
       "3          964      1255      0  2022-08-26 00:00:19.000000           84   \n",
       "4          965      1256      1  2022-08-26 00:02:21.000000           56   \n",
       "...        ...       ...    ...                         ...          ...   \n",
       "13821     1461     59487      0  2022-09-08 23:29:06.000000            9   \n",
       "13822     1461     59487      0  2022-09-08 23:29:06.000000           62   \n",
       "13823     1461     59487      0  2022-09-08 23:29:06.000000           77   \n",
       "13824     1376     59533      0  2022-09-08 23:41:24.000000           17   \n",
       "13825     1376     59533      0  2022-09-08 23:41:24.000000           85   \n",
       "\n",
       "       product_id                 name  price  \n",
       "0              75       сок ананасовый  120.0  \n",
       "1              22      сок мультифрукт  120.0  \n",
       "2              53                 мука   78.3  \n",
       "3              84            мандарины   90.4  \n",
       "4              56              сосиски  150.0  \n",
       "...           ...                  ...    ...  \n",
       "13821           9  чай черный листовой   83.5  \n",
       "13822          62         сок яблочный  120.0  \n",
       "13823          77               курица  298.4  \n",
       "13824          17      морс брусничный  190.0  \n",
       "13825          85              варенье  200.3  \n",
       "\n",
       "[13826 rows x 8 columns]"
      ]
     },
     "execution_count": 18,
     "metadata": {},
     "output_type": "execute_result"
    }
   ],
   "source": [
    "df = user_orders.merge(products, left_on = 'product_ids', right_on = 'product_id', how = 'left')\n",
    "df"
   ]
  },
  {
   "cell_type": "code",
   "execution_count": 19,
   "id": "5d2da109-764e-406e-b959-b980cbff8370",
   "metadata": {},
   "outputs": [
    {
     "data": {
      "text/html": [
       "<div>\n",
       "<style scoped>\n",
       "    .dataframe tbody tr th:only-of-type {\n",
       "        vertical-align: middle;\n",
       "    }\n",
       "\n",
       "    .dataframe tbody tr th {\n",
       "        vertical-align: top;\n",
       "    }\n",
       "\n",
       "    .dataframe thead th {\n",
       "        text-align: right;\n",
       "    }\n",
       "</style>\n",
       "<table border=\"1\" class=\"dataframe\">\n",
       "  <thead>\n",
       "    <tr style=\"text-align: right;\">\n",
       "      <th></th>\n",
       "      <th>user_id</th>\n",
       "      <th>order_id</th>\n",
       "      <th>group</th>\n",
       "      <th>creation_time</th>\n",
       "      <th>price</th>\n",
       "    </tr>\n",
       "  </thead>\n",
       "  <tbody>\n",
       "    <tr>\n",
       "      <th>0</th>\n",
       "      <td>964</td>\n",
       "      <td>1255</td>\n",
       "      <td>0</td>\n",
       "      <td>2022-08-26 00:00:19.000000</td>\n",
       "      <td>120.0</td>\n",
       "    </tr>\n",
       "    <tr>\n",
       "      <th>1</th>\n",
       "      <td>964</td>\n",
       "      <td>1255</td>\n",
       "      <td>0</td>\n",
       "      <td>2022-08-26 00:00:19.000000</td>\n",
       "      <td>120.0</td>\n",
       "    </tr>\n",
       "    <tr>\n",
       "      <th>2</th>\n",
       "      <td>964</td>\n",
       "      <td>1255</td>\n",
       "      <td>0</td>\n",
       "      <td>2022-08-26 00:00:19.000000</td>\n",
       "      <td>78.3</td>\n",
       "    </tr>\n",
       "    <tr>\n",
       "      <th>3</th>\n",
       "      <td>964</td>\n",
       "      <td>1255</td>\n",
       "      <td>0</td>\n",
       "      <td>2022-08-26 00:00:19.000000</td>\n",
       "      <td>90.4</td>\n",
       "    </tr>\n",
       "    <tr>\n",
       "      <th>4</th>\n",
       "      <td>965</td>\n",
       "      <td>1256</td>\n",
       "      <td>1</td>\n",
       "      <td>2022-08-26 00:02:21.000000</td>\n",
       "      <td>150.0</td>\n",
       "    </tr>\n",
       "    <tr>\n",
       "      <th>...</th>\n",
       "      <td>...</td>\n",
       "      <td>...</td>\n",
       "      <td>...</td>\n",
       "      <td>...</td>\n",
       "      <td>...</td>\n",
       "    </tr>\n",
       "    <tr>\n",
       "      <th>13821</th>\n",
       "      <td>1461</td>\n",
       "      <td>59487</td>\n",
       "      <td>0</td>\n",
       "      <td>2022-09-08 23:29:06.000000</td>\n",
       "      <td>83.5</td>\n",
       "    </tr>\n",
       "    <tr>\n",
       "      <th>13822</th>\n",
       "      <td>1461</td>\n",
       "      <td>59487</td>\n",
       "      <td>0</td>\n",
       "      <td>2022-09-08 23:29:06.000000</td>\n",
       "      <td>120.0</td>\n",
       "    </tr>\n",
       "    <tr>\n",
       "      <th>13823</th>\n",
       "      <td>1461</td>\n",
       "      <td>59487</td>\n",
       "      <td>0</td>\n",
       "      <td>2022-09-08 23:29:06.000000</td>\n",
       "      <td>298.4</td>\n",
       "    </tr>\n",
       "    <tr>\n",
       "      <th>13824</th>\n",
       "      <td>1376</td>\n",
       "      <td>59533</td>\n",
       "      <td>0</td>\n",
       "      <td>2022-09-08 23:41:24.000000</td>\n",
       "      <td>190.0</td>\n",
       "    </tr>\n",
       "    <tr>\n",
       "      <th>13825</th>\n",
       "      <td>1376</td>\n",
       "      <td>59533</td>\n",
       "      <td>0</td>\n",
       "      <td>2022-09-08 23:41:24.000000</td>\n",
       "      <td>200.3</td>\n",
       "    </tr>\n",
       "  </tbody>\n",
       "</table>\n",
       "<p>13826 rows × 5 columns</p>\n",
       "</div>"
      ],
      "text/plain": [
       "       user_id  order_id  group               creation_time  price\n",
       "0          964      1255      0  2022-08-26 00:00:19.000000  120.0\n",
       "1          964      1255      0  2022-08-26 00:00:19.000000  120.0\n",
       "2          964      1255      0  2022-08-26 00:00:19.000000   78.3\n",
       "3          964      1255      0  2022-08-26 00:00:19.000000   90.4\n",
       "4          965      1256      1  2022-08-26 00:02:21.000000  150.0\n",
       "...        ...       ...    ...                         ...    ...\n",
       "13821     1461     59487      0  2022-09-08 23:29:06.000000   83.5\n",
       "13822     1461     59487      0  2022-09-08 23:29:06.000000  120.0\n",
       "13823     1461     59487      0  2022-09-08 23:29:06.000000  298.4\n",
       "13824     1376     59533      0  2022-09-08 23:41:24.000000  190.0\n",
       "13825     1376     59533      0  2022-09-08 23:41:24.000000  200.3\n",
       "\n",
       "[13826 rows x 5 columns]"
      ]
     },
     "execution_count": 19,
     "metadata": {},
     "output_type": "execute_result"
    }
   ],
   "source": [
    "df_1 = df[['user_id', 'order_id', 'group', 'creation_time', 'price']]\n",
    "df_1"
   ]
  },
  {
   "cell_type": "code",
   "execution_count": 88,
   "id": "0594db8a-b3ba-4969-aed7-ad05dbecca4a",
   "metadata": {},
   "outputs": [
    {
     "data": {
      "text/html": [
       "<div>\n",
       "<style scoped>\n",
       "    .dataframe tbody tr th:only-of-type {\n",
       "        vertical-align: middle;\n",
       "    }\n",
       "\n",
       "    .dataframe tbody tr th {\n",
       "        vertical-align: top;\n",
       "    }\n",
       "\n",
       "    .dataframe thead th {\n",
       "        text-align: right;\n",
       "    }\n",
       "</style>\n",
       "<table border=\"1\" class=\"dataframe\">\n",
       "  <thead>\n",
       "    <tr style=\"text-align: right;\">\n",
       "      <th></th>\n",
       "      <th>group</th>\n",
       "      <th>order_id</th>\n",
       "      <th>price</th>\n",
       "    </tr>\n",
       "  </thead>\n",
       "  <tbody>\n",
       "    <tr>\n",
       "      <th>0</th>\n",
       "      <td>0</td>\n",
       "      <td>1255</td>\n",
       "      <td>408.7</td>\n",
       "    </tr>\n",
       "    <tr>\n",
       "      <th>1</th>\n",
       "      <td>0</td>\n",
       "      <td>1257</td>\n",
       "      <td>310.2</td>\n",
       "    </tr>\n",
       "    <tr>\n",
       "      <th>2</th>\n",
       "      <td>0</td>\n",
       "      <td>1258</td>\n",
       "      <td>85.0</td>\n",
       "    </tr>\n",
       "    <tr>\n",
       "      <th>3</th>\n",
       "      <td>0</td>\n",
       "      <td>1261</td>\n",
       "      <td>430.7</td>\n",
       "    </tr>\n",
       "    <tr>\n",
       "      <th>4</th>\n",
       "      <td>0</td>\n",
       "      <td>1262</td>\n",
       "      <td>358.6</td>\n",
       "    </tr>\n",
       "    <tr>\n",
       "      <th>...</th>\n",
       "      <td>...</td>\n",
       "      <td>...</td>\n",
       "      <td>...</td>\n",
       "    </tr>\n",
       "    <tr>\n",
       "      <th>4118</th>\n",
       "      <td>1</td>\n",
       "      <td>59220</td>\n",
       "      <td>264.2</td>\n",
       "    </tr>\n",
       "    <tr>\n",
       "      <th>4119</th>\n",
       "      <td>1</td>\n",
       "      <td>59250</td>\n",
       "      <td>150.3</td>\n",
       "    </tr>\n",
       "    <tr>\n",
       "      <th>4120</th>\n",
       "      <td>1</td>\n",
       "      <td>59390</td>\n",
       "      <td>620.8</td>\n",
       "    </tr>\n",
       "    <tr>\n",
       "      <th>4121</th>\n",
       "      <td>1</td>\n",
       "      <td>59422</td>\n",
       "      <td>241.2</td>\n",
       "    </tr>\n",
       "    <tr>\n",
       "      <th>4122</th>\n",
       "      <td>1</td>\n",
       "      <td>59439</td>\n",
       "      <td>518.5</td>\n",
       "    </tr>\n",
       "  </tbody>\n",
       "</table>\n",
       "<p>4123 rows × 3 columns</p>\n",
       "</div>"
      ],
      "text/plain": [
       "      group  order_id  price\n",
       "0         0      1255  408.7\n",
       "1         0      1257  310.2\n",
       "2         0      1258   85.0\n",
       "3         0      1261  430.7\n",
       "4         0      1262  358.6\n",
       "...     ...       ...    ...\n",
       "4118      1     59220  264.2\n",
       "4119      1     59250  150.3\n",
       "4120      1     59390  620.8\n",
       "4121      1     59422  241.2\n",
       "4122      1     59439  518.5\n",
       "\n",
       "[4123 rows x 3 columns]"
      ]
     },
     "execution_count": 88,
     "metadata": {},
     "output_type": "execute_result"
    }
   ],
   "source": [
    "value_per_order = df_1.groupby([\"group\", \"order_id\"], as_index=False).price.sum()\n",
    "value_per_order"
   ]
  },
  {
   "cell_type": "markdown",
   "id": "1ea8bf59-b6ba-4f81-8b7c-65ecf53e00b9",
   "metadata": {},
   "source": [
    "__Распределение данных__"
   ]
  },
  {
   "cell_type": "code",
   "execution_count": 89,
   "id": "4779cf48-b256-4e9e-9c3a-2af5a7917b53",
   "metadata": {},
   "outputs": [
    {
     "data": {
      "text/plain": [
       "<Axes: xlabel='price', ylabel='Count'>"
      ]
     },
     "execution_count": 89,
     "metadata": {},
     "output_type": "execute_result"
    },
    {
     "data": {
      "image/png": "[encoded data removed]",
      "text/plain": [
       "<Figure size 640x480 with 1 Axes>"
      ]
     },
     "metadata": {},
     "output_type": "display_data"
    }
   ],
   "source": [
    "sns.histplot(data=value_per_order, x=\"price\", hue=\"group\")"
   ]
  },
  {
   "cell_type": "code",
   "execution_count": 97,
   "id": "bb28f644-7fc7-4dcb-8aae-31c9cb611474",
   "metadata": {},
   "outputs": [
    {
     "data": {
      "text/plain": [
       "<Axes: xlabel='group', ylabel='price'>"
      ]
     },
     "execution_count": 97,
     "metadata": {},
     "output_type": "execute_result"
    },
    {
     "data": {
      "image/png": "[encoded data removed]",
      "text/plain": [
       "<Figure size 640x480 with 1 Axes>"
      ]
     },
     "metadata": {},
     "output_type": "display_data"
    }
   ],
   "source": [
    "sns.boxplot(x=value_per_order.group, y=df_1.price, color='green')"
   ]
  },
  {
   "cell_type": "code",
   "execution_count": 98,
   "id": "1df27254-e507-449e-bcc4-432849957f88",
   "metadata": {},
   "outputs": [
    {
     "data": {
      "text/plain": [
       "<Axes: xlabel='Theoretical quantiles', ylabel='Ordered quantiles'>"
      ]
     },
     "execution_count": 98,
     "metadata": {},
     "output_type": "execute_result"
    },
    {
     "data": {
      "image/png": "[encoded data removed]",
      "text/plain": [
       "<Figure size 640x480 with 1 Axes>"
      ]
     },
     "metadata": {},
     "output_type": "display_data"
    }
   ],
   "source": [
    "pg.qqplot(value_per_order.query(\"group == 0\").price)"
   ]
  },
  {
   "cell_type": "code",
   "execution_count": 99,
   "id": "bece37c9-00e7-4ab0-a39c-d99e5242f2f2",
   "metadata": {},
   "outputs": [
    {
     "data": {
      "text/plain": [
       "<Axes: xlabel='Theoretical quantiles', ylabel='Ordered quantiles'>"
      ]
     },
     "execution_count": 99,
     "metadata": {},
     "output_type": "execute_result"
    },
    {
     "data": {
      "image/png": "[encoded data removed]",
      "text/plain": [
       "<Figure size 640x480 with 1 Axes>"
      ]
     },
     "metadata": {},
     "output_type": "display_data"
    }
   ],
   "source": [
    "pg.qqplot(value_per_order.query(\"group == 1\").price)"
   ]
  },
  {
   "cell_type": "markdown",
   "id": "69bb19a3-55ee-4a60-9511-a30f02c042a9",
   "metadata": {},
   "source": [
    "__Проверка распределения на нормальность__"
   ]
  },
  {
   "cell_type": "code",
   "execution_count": 108,
   "id": "32eac007-630d-4b09-af5e-27eee722e137",
   "metadata": {},
   "outputs": [
    {
     "data": {
      "text/html": [
       "<div>\n",
       "<style scoped>\n",
       "    .dataframe tbody tr th:only-of-type {\n",
       "        vertical-align: middle;\n",
       "    }\n",
       "\n",
       "    .dataframe tbody tr th {\n",
       "        vertical-align: top;\n",
       "    }\n",
       "\n",
       "    .dataframe thead th {\n",
       "        text-align: right;\n",
       "    }\n",
       "</style>\n",
       "<table border=\"1\" class=\"dataframe\">\n",
       "  <thead>\n",
       "    <tr style=\"text-align: right;\">\n",
       "      <th></th>\n",
       "      <th>W</th>\n",
       "      <th>pval</th>\n",
       "      <th>normal</th>\n",
       "    </tr>\n",
       "    <tr>\n",
       "      <th>group</th>\n",
       "      <th></th>\n",
       "      <th></th>\n",
       "      <th></th>\n",
       "    </tr>\n",
       "  </thead>\n",
       "  <tbody>\n",
       "    <tr>\n",
       "      <th>0</th>\n",
       "      <td>288.620818</td>\n",
       "      <td>2.122197e-63</td>\n",
       "      <td>False</td>\n",
       "    </tr>\n",
       "    <tr>\n",
       "      <th>1</th>\n",
       "      <td>597.683192</td>\n",
       "      <td>1.639623e-130</td>\n",
       "      <td>False</td>\n",
       "    </tr>\n",
       "  </tbody>\n",
       "</table>\n",
       "</div>"
      ],
      "text/plain": [
       "                W           pval  normal\n",
       "group                                   \n",
       "0      288.620818   2.122197e-63   False\n",
       "1      597.683192  1.639623e-130   False"
      ]
     },
     "execution_count": 108,
     "metadata": {},
     "output_type": "execute_result"
    }
   ],
   "source": [
    "pg.normality(data=value_per_order, dv= \"price\", group=\"group\", method=\"normaltest\")"
   ]
  },
  {
   "cell_type": "code",
   "execution_count": 109,
   "id": "1f7e2b80-7f78-4ec1-9690-0e3fe062acb1",
   "metadata": {},
   "outputs": [
    {
     "data": {
      "text/plain": [
       "NormaltestResult(statistic=288.6208180681972, pvalue=2.122196897492167e-63)"
      ]
     },
     "execution_count": 109,
     "metadata": {},
     "output_type": "execute_result"
    }
   ],
   "source": [
    "ss.normaltest(value_per_order.query('group == 0')['price'])"
   ]
  },
  {
   "cell_type": "code",
   "execution_count": 110,
   "id": "fb9ecdb5-5a80-40da-91b6-cc1d3cbcbbff",
   "metadata": {},
   "outputs": [
    {
     "data": {
      "text/plain": [
       "NormaltestResult(statistic=597.6831916887269, pvalue=1.6396228483368307e-130)"
      ]
     },
     "execution_count": 110,
     "metadata": {},
     "output_type": "execute_result"
    }
   ],
   "source": [
    "ss.normaltest(value_per_order.query('group == 1')['price'])"
   ]
  },
  {
   "cell_type": "markdown",
   "id": "8163e5a8-7629-48d7-b585-74ecb3c3e3dd",
   "metadata": {},
   "source": [
    "__Сравнение средних__"
   ]
  },
  {
   "cell_type": "code",
   "execution_count": 116,
   "id": "e58766b1-f43c-46f8-97fb-8b09ad8b158b",
   "metadata": {},
   "outputs": [],
   "source": [
    "df_control = value_per_order.query('group == 0')\n",
    "df_test = value_per_order.query('group == 1')"
   ]
  },
  {
   "cell_type": "code",
   "execution_count": 126,
   "id": "7632cf57-2a89-4b65-86d5-1bdd00f7f940",
   "metadata": {},
   "outputs": [
    {
     "data": {
      "text/html": [
       "<div>\n",
       "<style scoped>\n",
       "    .dataframe tbody tr th:only-of-type {\n",
       "        vertical-align: middle;\n",
       "    }\n",
       "\n",
       "    .dataframe tbody tr th {\n",
       "        vertical-align: top;\n",
       "    }\n",
       "\n",
       "    .dataframe thead th {\n",
       "        text-align: right;\n",
       "    }\n",
       "</style>\n",
       "<table border=\"1\" class=\"dataframe\">\n",
       "  <thead>\n",
       "    <tr style=\"text-align: right;\">\n",
       "      <th></th>\n",
       "      <th>group</th>\n",
       "      <th>order_id</th>\n",
       "      <th>price</th>\n",
       "    </tr>\n",
       "  </thead>\n",
       "  <tbody>\n",
       "    <tr>\n",
       "      <th>0</th>\n",
       "      <td>0</td>\n",
       "      <td>1255</td>\n",
       "      <td>408.7</td>\n",
       "    </tr>\n",
       "    <tr>\n",
       "      <th>1</th>\n",
       "      <td>0</td>\n",
       "      <td>1257</td>\n",
       "      <td>310.2</td>\n",
       "    </tr>\n",
       "    <tr>\n",
       "      <th>2</th>\n",
       "      <td>0</td>\n",
       "      <td>1258</td>\n",
       "      <td>85.0</td>\n",
       "    </tr>\n",
       "    <tr>\n",
       "      <th>3</th>\n",
       "      <td>0</td>\n",
       "      <td>1261</td>\n",
       "      <td>430.7</td>\n",
       "    </tr>\n",
       "    <tr>\n",
       "      <th>4</th>\n",
       "      <td>0</td>\n",
       "      <td>1262</td>\n",
       "      <td>358.6</td>\n",
       "    </tr>\n",
       "  </tbody>\n",
       "</table>\n",
       "</div>"
      ],
      "text/plain": [
       "   group  order_id  price\n",
       "0      0      1255  408.7\n",
       "1      0      1257  310.2\n",
       "2      0      1258   85.0\n",
       "3      0      1261  430.7\n",
       "4      0      1262  358.6"
      ]
     },
     "execution_count": 126,
     "metadata": {},
     "output_type": "execute_result"
    }
   ],
   "source": [
    "df_control.head()"
   ]
  },
  {
   "cell_type": "code",
   "execution_count": 128,
   "id": "0796a8d2-3978-45cc-be58-41e61944afce",
   "metadata": {},
   "outputs": [
    {
     "data": {
      "text/plain": [
       "count    1609.000000\n",
       "mean      381.285768\n",
       "std       245.669506\n",
       "min         2.000000\n",
       "25%       197.700000\n",
       "50%       326.300000\n",
       "75%       515.800000\n",
       "max      1668.600000\n",
       "Name: price, dtype: float64"
      ]
     },
     "execution_count": 128,
     "metadata": {},
     "output_type": "execute_result"
    }
   ],
   "source": [
    "df_control['price'].describe()"
   ]
  },
  {
   "cell_type": "code",
   "execution_count": 127,
   "id": "c7e7f6b4-d554-48a7-a3cb-709ea63b8387",
   "metadata": {},
   "outputs": [
    {
     "data": {
      "text/html": [
       "<div>\n",
       "<style scoped>\n",
       "    .dataframe tbody tr th:only-of-type {\n",
       "        vertical-align: middle;\n",
       "    }\n",
       "\n",
       "    .dataframe tbody tr th {\n",
       "        vertical-align: top;\n",
       "    }\n",
       "\n",
       "    .dataframe thead th {\n",
       "        text-align: right;\n",
       "    }\n",
       "</style>\n",
       "<table border=\"1\" class=\"dataframe\">\n",
       "  <thead>\n",
       "    <tr style=\"text-align: right;\">\n",
       "      <th></th>\n",
       "      <th>group</th>\n",
       "      <th>order_id</th>\n",
       "      <th>price</th>\n",
       "    </tr>\n",
       "  </thead>\n",
       "  <tbody>\n",
       "    <tr>\n",
       "      <th>1609</th>\n",
       "      <td>1</td>\n",
       "      <td>1256</td>\n",
       "      <td>250.5</td>\n",
       "    </tr>\n",
       "    <tr>\n",
       "      <th>1610</th>\n",
       "      <td>1</td>\n",
       "      <td>1259</td>\n",
       "      <td>228.0</td>\n",
       "    </tr>\n",
       "    <tr>\n",
       "      <th>1611</th>\n",
       "      <td>1</td>\n",
       "      <td>1263</td>\n",
       "      <td>180.3</td>\n",
       "    </tr>\n",
       "    <tr>\n",
       "      <th>1612</th>\n",
       "      <td>1</td>\n",
       "      <td>1264</td>\n",
       "      <td>310.3</td>\n",
       "    </tr>\n",
       "    <tr>\n",
       "      <th>1613</th>\n",
       "      <td>1</td>\n",
       "      <td>1266</td>\n",
       "      <td>46.0</td>\n",
       "    </tr>\n",
       "  </tbody>\n",
       "</table>\n",
       "</div>"
      ],
      "text/plain": [
       "      group  order_id  price\n",
       "1609      1      1256  250.5\n",
       "1610      1      1259  228.0\n",
       "1611      1      1263  180.3\n",
       "1612      1      1264  310.3\n",
       "1613      1      1266   46.0"
      ]
     },
     "execution_count": 127,
     "metadata": {},
     "output_type": "execute_result"
    }
   ],
   "source": [
    "df_test.head()"
   ]
  },
  {
   "cell_type": "code",
   "execution_count": 129,
   "id": "9db2af31-5b3b-403c-b0ec-a8333dd3be09",
   "metadata": {},
   "outputs": [
    {
     "data": {
      "text/plain": [
       "count    2514.000000\n",
       "mean      369.622912\n",
       "std       247.141433\n",
       "min         1.000000\n",
       "25%       189.375000\n",
       "50%       307.350000\n",
       "75%       504.025000\n",
       "max      1835.000000\n",
       "Name: price, dtype: float64"
      ]
     },
     "execution_count": 129,
     "metadata": {},
     "output_type": "execute_result"
    }
   ],
   "source": [
    "df_test['price'].describe()"
   ]
  },
  {
   "cell_type": "code",
   "execution_count": 111,
   "id": "b2015f49-266d-4f21-a738-2845a8ff8ae9",
   "metadata": {},
   "outputs": [
    {
     "data": {
      "text/html": [
       "<div>\n",
       "<style scoped>\n",
       "    .dataframe tbody tr th:only-of-type {\n",
       "        vertical-align: middle;\n",
       "    }\n",
       "\n",
       "    .dataframe tbody tr th {\n",
       "        vertical-align: top;\n",
       "    }\n",
       "\n",
       "    .dataframe thead th {\n",
       "        text-align: right;\n",
       "    }\n",
       "</style>\n",
       "<table border=\"1\" class=\"dataframe\">\n",
       "  <thead>\n",
       "    <tr style=\"text-align: right;\">\n",
       "      <th></th>\n",
       "      <th>T</th>\n",
       "      <th>dof</th>\n",
       "      <th>alternative</th>\n",
       "      <th>p-val</th>\n",
       "      <th>CI95%</th>\n",
       "      <th>cohen-d</th>\n",
       "      <th>BF10</th>\n",
       "      <th>power</th>\n",
       "    </tr>\n",
       "  </thead>\n",
       "  <tbody>\n",
       "    <tr>\n",
       "      <th>T-test</th>\n",
       "      <td>1.483514</td>\n",
       "      <td>3441.720793</td>\n",
       "      <td>two-sided</td>\n",
       "      <td>0.13803</td>\n",
       "      <td>[-3.75, 27.08]</td>\n",
       "      <td>0.047301</td>\n",
       "      <td>0.108</td>\n",
       "      <td>0.316351</td>\n",
       "    </tr>\n",
       "  </tbody>\n",
       "</table>\n",
       "</div>"
      ],
      "text/plain": [
       "               T          dof alternative    p-val           CI95%   cohen-d  \\\n",
       "T-test  1.483514  3441.720793   two-sided  0.13803  [-3.75, 27.08]  0.047301   \n",
       "\n",
       "         BF10     power  \n",
       "T-test  0.108  0.316351  "
      ]
     },
     "execution_count": 111,
     "metadata": {},
     "output_type": "execute_result"
    }
   ],
   "source": [
    "pg.ttest(x=value_per_order.query(\"group==0\")[\"price\"], \n",
    "         y=value_per_order.query(\"group==1\")[\"price\"])"
   ]
  },
  {
   "cell_type": "code",
   "execution_count": 113,
   "id": "983affb4-b1eb-49ca-8782-35da558c571f",
   "metadata": {},
   "outputs": [
    {
     "data": {
      "text/plain": [
       "TtestResult(statistic=1.4815692121713075, pvalue=0.13853141121218762, df=4121.0)"
      ]
     },
     "execution_count": 113,
     "metadata": {},
     "output_type": "execute_result"
    }
   ],
   "source": [
    "ss.ttest_ind(value_per_order.query('group == 0')['price'], value_per_order.query('group == 1')['price'])"
   ]
  },
  {
   "cell_type": "code",
   "execution_count": 112,
   "id": "14b5aecd-a46d-44f3-83ef-8a56822d7c73",
   "metadata": {},
   "outputs": [
    {
     "data": {
      "text/html": [
       "<div>\n",
       "<style scoped>\n",
       "    .dataframe tbody tr th:only-of-type {\n",
       "        vertical-align: middle;\n",
       "    }\n",
       "\n",
       "    .dataframe tbody tr th {\n",
       "        vertical-align: top;\n",
       "    }\n",
       "\n",
       "    .dataframe thead th {\n",
       "        text-align: right;\n",
       "    }\n",
       "</style>\n",
       "<table border=\"1\" class=\"dataframe\">\n",
       "  <thead>\n",
       "    <tr style=\"text-align: right;\">\n",
       "      <th></th>\n",
       "      <th>U-val</th>\n",
       "      <th>alternative</th>\n",
       "      <th>p-val</th>\n",
       "      <th>RBC</th>\n",
       "      <th>CLES</th>\n",
       "    </tr>\n",
       "  </thead>\n",
       "  <tbody>\n",
       "    <tr>\n",
       "      <th>MWU</th>\n",
       "      <td>2089849.5</td>\n",
       "      <td>two-sided</td>\n",
       "      <td>0.070918</td>\n",
       "      <td>-0.033293</td>\n",
       "      <td>0.516647</td>\n",
       "    </tr>\n",
       "  </tbody>\n",
       "</table>\n",
       "</div>"
      ],
      "text/plain": [
       "         U-val alternative     p-val       RBC      CLES\n",
       "MWU  2089849.5   two-sided  0.070918 -0.033293  0.516647"
      ]
     },
     "execution_count": 112,
     "metadata": {},
     "output_type": "execute_result"
    }
   ],
   "source": [
    "pg.mwu(x=value_per_order.query(\"group==0\")[\"price\"], \n",
    "         y=value_per_order.query(\"group==1\")[\"price\"])"
   ]
  },
  {
   "cell_type": "code",
   "execution_count": 114,
   "id": "2a85a30e-a71d-4346-bac0-71c7d095f7aa",
   "metadata": {},
   "outputs": [
    {
     "data": {
      "text/plain": [
       "MannwhitneyuResult(statistic=2089849.5, pvalue=0.07091794237690839)"
      ]
     },
     "execution_count": 114,
     "metadata": {},
     "output_type": "execute_result"
    }
   ],
   "source": [
    "ss.mannwhitneyu(value_per_order.query('group == 0')['price'], value_per_order.query('group == 1')['price'])"
   ]
  },
  {
   "cell_type": "markdown",
   "id": "73a80962-d434-42f0-a2c6-f012a7c8d3f5",
   "metadata": {},
   "source": [
    "**Bootstrap**"
   ]
  },
  {
   "cell_type": "code",
   "execution_count": 118,
   "id": "1747b071-13f7-4b0e-9ad7-22d71ea1dc18",
   "metadata": {},
   "outputs": [
    {
     "data": {
      "text/plain": [
       "BootstrapResult(confidence_interval=ConfidenceInterval(low=369.13684529522385, high=393.09633249544885), bootstrap_distribution=array([374.26612803, 376.51187073, 378.51236793, ..., 386.5229335 ,\n",
       "       381.45531386, 387.377688  ]), standard_error=6.114809458596918)"
      ]
     },
     "execution_count": 118,
     "metadata": {},
     "output_type": "execute_result"
    }
   ],
   "source": [
    "bootstrap((df_control.price, ), np.mean)"
   ]
  },
  {
   "cell_type": "code",
   "execution_count": 119,
   "id": "37f7b79d-6c7b-47f5-ac15-829f8fe5bcfb",
   "metadata": {},
   "outputs": [
    {
     "data": {
      "text/plain": [
       "BootstrapResult(confidence_interval=ConfidenceInterval(low=360.0976432960668, high=379.29287879458775), bootstrap_distribution=array([361.26690533, 373.69439141, 371.31161496, ..., 366.3410899 ,\n",
       "       374.55970565, 371.29463007]), standard_error=4.919074332422155)"
      ]
     },
     "execution_count": 119,
     "metadata": {},
     "output_type": "execute_result"
    }
   ],
   "source": [
    "bootstrap((df_test.price, ), np.mean)"
   ]
  },
  {
   "cell_type": "code",
   "execution_count": 120,
   "id": "f9d73ed3-68a8-4fac-b87d-e305a3206d05",
   "metadata": {},
   "outputs": [
    {
     "data": {
      "text/plain": [
       "BootstrapResult(confidence_interval=ConfidenceInterval(low=310.3, high=338.8), bootstrap_distribution=array([321.4, 333. , 320.6, ..., 325.4, 328.6, 325.4]), standard_error=7.014444645177219)"
      ]
     },
     "execution_count": 120,
     "metadata": {},
     "output_type": "execute_result"
    }
   ],
   "source": [
    "bootstrap((df_control.price, ), np.median)"
   ]
  },
  {
   "cell_type": "code",
   "execution_count": 121,
   "id": "71fd2d92-3475-4267-8de3-8fdbff82dc32",
   "metadata": {},
   "outputs": [
    {
     "data": {
      "text/plain": [
       "BootstrapResult(confidence_interval=ConfidenceInterval(low=295.3, high=318.8), bootstrap_distribution=array([308.  , 303.7 , 305.15, ..., 305.75, 305.5 , 315.55]), standard_error=5.989197142210534)"
      ]
     },
     "execution_count": 121,
     "metadata": {},
     "output_type": "execute_result"
    }
   ],
   "source": [
    "bootstrap((df_test.price, ), np.median)"
   ]
  },
  {
   "cell_type": "markdown",
   "id": "7669eb2f-d44c-4ff6-a893-38983db61888",
   "metadata": {},
   "source": [
    "__Регрессионная модель__"
   ]
  },
  {
   "cell_type": "code",
   "execution_count": 125,
   "id": "9d03b6d0-d935-469d-9ec2-880c0e54422d",
   "metadata": {
    "scrolled": true
   },
   "outputs": [
    {
     "name": "stdout",
     "output_type": "stream",
     "text": [
      "                            OLS Regression Results                            \n",
      "==============================================================================\n",
      "Dep. Variable:                  price   R-squared:                       0.001\n",
      "Model:                            OLS   Adj. R-squared:                  0.000\n",
      "Method:                 Least Squares   F-statistic:                     2.195\n",
      "Date:                Sun, 01 Sep 2024   Prob (F-statistic):              0.139\n",
      "Time:                        18:25:39   Log-Likelihood:                -28557.\n",
      "No. Observations:                4123   AIC:                         5.712e+04\n",
      "Df Residuals:                    4121   BIC:                         5.713e+04\n",
      "Df Model:                           1                                         \n",
      "Covariance Type:            nonrobust                                         \n",
      "==============================================================================\n",
      "                 coef    std err          t      P>|t|      [0.025      0.975]\n",
      "------------------------------------------------------------------------------\n",
      "Intercept    381.2858      6.147     62.029      0.000     369.234     393.337\n",
      "group        -11.6629      7.872     -1.482      0.139     -27.096       3.770\n",
      "==============================================================================\n",
      "Omnibus:                      882.194   Durbin-Watson:                   1.994\n",
      "Prob(Omnibus):                  0.000   Jarque-Bera (JB):             1803.044\n",
      "Skew:                           1.261   Prob(JB):                         0.00\n",
      "Kurtosis:                       5.033   Cond. No.                         2.96\n",
      "==============================================================================\n",
      "\n",
      "Notes:\n",
      "[1] Standard Errors assume that the covariance matrix of the errors is correctly specified.\n"
     ]
    }
   ],
   "source": [
    "results = smf.ols('price ~ group', value_per_order).fit()\n",
    "print(results.summary())"
   ]
  },
  {
   "cell_type": "markdown",
   "id": "7221f1a4-4654-4720-9548-b14881949e9d",
   "metadata": {},
   "source": [
    "__Средняя стоимость заказа изменилась статистически незначимо__"
   ]
  },
  {
   "cell_type": "markdown",
   "id": "8d223b59-5855-4ca3-b024-30b4211425b6",
   "metadata": {},
   "source": [
    "## Гипотеза 5: изменились характеристики ретеншена (возвращаемость - удержание пользователей)"
   ]
  },
  {
   "cell_type": "code",
   "execution_count": 21,
   "id": "9127bd0c-d01f-4593-8439-95a2f12ff973",
   "metadata": {},
   "outputs": [
    {
     "data": {
      "text/html": [
       "<div>\n",
       "<style scoped>\n",
       "    .dataframe tbody tr th:only-of-type {\n",
       "        vertical-align: middle;\n",
       "    }\n",
       "\n",
       "    .dataframe tbody tr th {\n",
       "        vertical-align: top;\n",
       "    }\n",
       "\n",
       "    .dataframe thead th {\n",
       "        text-align: right;\n",
       "    }\n",
       "</style>\n",
       "<table border=\"1\" class=\"dataframe\">\n",
       "  <thead>\n",
       "    <tr style=\"text-align: right;\">\n",
       "      <th></th>\n",
       "      <th>user_id</th>\n",
       "      <th>order_id</th>\n",
       "      <th>group</th>\n",
       "      <th>creation_time</th>\n",
       "      <th>product_ids</th>\n",
       "    </tr>\n",
       "  </thead>\n",
       "  <tbody>\n",
       "    <tr>\n",
       "      <th>0</th>\n",
       "      <td>964</td>\n",
       "      <td>1255</td>\n",
       "      <td>0</td>\n",
       "      <td>2022-08-26 00:00:19.000000</td>\n",
       "      <td>[75,  22,  53,  84]</td>\n",
       "    </tr>\n",
       "    <tr>\n",
       "      <th>1</th>\n",
       "      <td>965</td>\n",
       "      <td>1256</td>\n",
       "      <td>1</td>\n",
       "      <td>2022-08-26 00:02:21.000000</td>\n",
       "      <td>[56,  76,  39]</td>\n",
       "    </tr>\n",
       "    <tr>\n",
       "      <th>2</th>\n",
       "      <td>964</td>\n",
       "      <td>1257</td>\n",
       "      <td>0</td>\n",
       "      <td>2022-08-26 00:02:27.000000</td>\n",
       "      <td>[76,  34,  41,  38]</td>\n",
       "    </tr>\n",
       "    <tr>\n",
       "      <th>3</th>\n",
       "      <td>966</td>\n",
       "      <td>1258</td>\n",
       "      <td>0</td>\n",
       "      <td>2022-08-26 00:02:56.000000</td>\n",
       "      <td>[74,  6]</td>\n",
       "    </tr>\n",
       "    <tr>\n",
       "      <th>4</th>\n",
       "      <td>967</td>\n",
       "      <td>1259</td>\n",
       "      <td>1</td>\n",
       "      <td>2022-08-26 00:03:37.000000</td>\n",
       "      <td>[20,  45,  67,  26]</td>\n",
       "    </tr>\n",
       "    <tr>\n",
       "      <th>...</th>\n",
       "      <td>...</td>\n",
       "      <td>...</td>\n",
       "      <td>...</td>\n",
       "      <td>...</td>\n",
       "      <td>...</td>\n",
       "    </tr>\n",
       "    <tr>\n",
       "      <th>4118</th>\n",
       "      <td>990</td>\n",
       "      <td>59422</td>\n",
       "      <td>1</td>\n",
       "      <td>2022-09-08 23:13:03.000000</td>\n",
       "      <td>[84,  8,  24]</td>\n",
       "    </tr>\n",
       "    <tr>\n",
       "      <th>4119</th>\n",
       "      <td>1418</td>\n",
       "      <td>59439</td>\n",
       "      <td>1</td>\n",
       "      <td>2022-09-08 23:18:05.000000</td>\n",
       "      <td>[9,  25,  75,  30,  6]</td>\n",
       "    </tr>\n",
       "    <tr>\n",
       "      <th>4120</th>\n",
       "      <td>1605</td>\n",
       "      <td>59464</td>\n",
       "      <td>0</td>\n",
       "      <td>2022-09-08 23:22:27.000000</td>\n",
       "      <td>[60,  41,  46]</td>\n",
       "    </tr>\n",
       "    <tr>\n",
       "      <th>4121</th>\n",
       "      <td>1461</td>\n",
       "      <td>59487</td>\n",
       "      <td>0</td>\n",
       "      <td>2022-09-08 23:29:06.000000</td>\n",
       "      <td>[9,  62,  77]</td>\n",
       "    </tr>\n",
       "    <tr>\n",
       "      <th>4122</th>\n",
       "      <td>1376</td>\n",
       "      <td>59533</td>\n",
       "      <td>0</td>\n",
       "      <td>2022-09-08 23:41:24.000000</td>\n",
       "      <td>[17,  85]</td>\n",
       "    </tr>\n",
       "  </tbody>\n",
       "</table>\n",
       "<p>4123 rows × 5 columns</p>\n",
       "</div>"
      ],
      "text/plain": [
       "      user_id  order_id  group               creation_time  \\\n",
       "0         964      1255      0  2022-08-26 00:00:19.000000   \n",
       "1         965      1256      1  2022-08-26 00:02:21.000000   \n",
       "2         964      1257      0  2022-08-26 00:02:27.000000   \n",
       "3         966      1258      0  2022-08-26 00:02:56.000000   \n",
       "4         967      1259      1  2022-08-26 00:03:37.000000   \n",
       "...       ...       ...    ...                         ...   \n",
       "4118      990     59422      1  2022-09-08 23:13:03.000000   \n",
       "4119     1418     59439      1  2022-09-08 23:18:05.000000   \n",
       "4120     1605     59464      0  2022-09-08 23:22:27.000000   \n",
       "4121     1461     59487      0  2022-09-08 23:29:06.000000   \n",
       "4122     1376     59533      0  2022-09-08 23:41:24.000000   \n",
       "\n",
       "                 product_ids  \n",
       "0        [75,  22,  53,  84]  \n",
       "1             [56,  76,  39]  \n",
       "2        [76,  34,  41,  38]  \n",
       "3                   [74,  6]  \n",
       "4        [20,  45,  67,  26]  \n",
       "...                      ...  \n",
       "4118           [84,  8,  24]  \n",
       "4119  [9,  25,  75,  30,  6]  \n",
       "4120          [60,  41,  46]  \n",
       "4121           [9,  62,  77]  \n",
       "4122               [17,  85]  \n",
       "\n",
       "[4123 rows x 5 columns]"
      ]
     },
     "execution_count": 21,
     "metadata": {},
     "output_type": "execute_result"
    }
   ],
   "source": [
    "user_order"
   ]
  },
  {
   "cell_type": "code",
   "execution_count": 22,
   "id": "4c35290a-c953-478f-9729-733214b25687",
   "metadata": {},
   "outputs": [
    {
     "data": {
      "text/html": [
       "<div>\n",
       "<style scoped>\n",
       "    .dataframe tbody tr th:only-of-type {\n",
       "        vertical-align: middle;\n",
       "    }\n",
       "\n",
       "    .dataframe tbody tr th {\n",
       "        vertical-align: top;\n",
       "    }\n",
       "\n",
       "    .dataframe thead th {\n",
       "        text-align: right;\n",
       "    }\n",
       "</style>\n",
       "<table border=\"1\" class=\"dataframe\">\n",
       "  <thead>\n",
       "    <tr style=\"text-align: right;\">\n",
       "      <th></th>\n",
       "      <th>user_id</th>\n",
       "      <th>order_id</th>\n",
       "      <th>group</th>\n",
       "      <th>creation_time</th>\n",
       "      <th>product_ids</th>\n",
       "    </tr>\n",
       "  </thead>\n",
       "  <tbody>\n",
       "    <tr>\n",
       "      <th>0</th>\n",
       "      <td>964</td>\n",
       "      <td>1255</td>\n",
       "      <td>0</td>\n",
       "      <td>2022-08-26 00:00:19</td>\n",
       "      <td>[75,  22,  53,  84]</td>\n",
       "    </tr>\n",
       "    <tr>\n",
       "      <th>1</th>\n",
       "      <td>965</td>\n",
       "      <td>1256</td>\n",
       "      <td>1</td>\n",
       "      <td>2022-08-26 00:02:21</td>\n",
       "      <td>[56,  76,  39]</td>\n",
       "    </tr>\n",
       "    <tr>\n",
       "      <th>2</th>\n",
       "      <td>964</td>\n",
       "      <td>1257</td>\n",
       "      <td>0</td>\n",
       "      <td>2022-08-26 00:02:27</td>\n",
       "      <td>[76,  34,  41,  38]</td>\n",
       "    </tr>\n",
       "    <tr>\n",
       "      <th>3</th>\n",
       "      <td>966</td>\n",
       "      <td>1258</td>\n",
       "      <td>0</td>\n",
       "      <td>2022-08-26 00:02:56</td>\n",
       "      <td>[74,  6]</td>\n",
       "    </tr>\n",
       "    <tr>\n",
       "      <th>4</th>\n",
       "      <td>967</td>\n",
       "      <td>1259</td>\n",
       "      <td>1</td>\n",
       "      <td>2022-08-26 00:03:37</td>\n",
       "      <td>[20,  45,  67,  26]</td>\n",
       "    </tr>\n",
       "  </tbody>\n",
       "</table>\n",
       "</div>"
      ],
      "text/plain": [
       "   user_id  order_id  group       creation_time          product_ids\n",
       "0      964      1255      0 2022-08-26 00:00:19  [75,  22,  53,  84]\n",
       "1      965      1256      1 2022-08-26 00:02:21       [56,  76,  39]\n",
       "2      964      1257      0 2022-08-26 00:02:27  [76,  34,  41,  38]\n",
       "3      966      1258      0 2022-08-26 00:02:56             [74,  6]\n",
       "4      967      1259      1 2022-08-26 00:03:37  [20,  45,  67,  26]"
      ]
     },
     "execution_count": 22,
     "metadata": {},
     "output_type": "execute_result"
    }
   ],
   "source": [
    "#конвертируем колонку со временем в datetime\n",
    "user_order[\"creation_time\"] = pd.to_datetime(user_order.creation_time)\n",
    "user_order.head()"
   ]
  },
  {
   "cell_type": "code",
   "execution_count": 24,
   "id": "b8191487-1216-43ba-8ac5-f01c7d338b74",
   "metadata": {},
   "outputs": [
    {
     "data": {
      "text/plain": [
       "count                             4123\n",
       "mean     2022-08-30 14:45:06.142372096\n",
       "min                2022-08-26 00:00:19\n",
       "25%         2022-08-26 20:14:15.500000\n",
       "50%                2022-08-29 12:37:43\n",
       "75%         2022-09-02 20:46:49.500000\n",
       "max                2022-09-08 23:41:24\n",
       "Name: creation_time, dtype: object"
      ]
     },
     "execution_count": 24,
     "metadata": {},
     "output_type": "execute_result"
    }
   ],
   "source": [
    "user_order['creation_time'].describe()"
   ]
  },
  {
   "cell_type": "code",
   "execution_count": 25,
   "id": "ec473241-d564-4184-964d-97471535255d",
   "metadata": {},
   "outputs": [
    {
     "data": {
      "text/plain": [
       "Timedelta('13 days 23:41:05')"
      ]
     },
     "execution_count": 25,
     "metadata": {},
     "output_type": "execute_result"
    }
   ],
   "source": [
    "user_order.creation_time.max() - user_order.creation_time.min() #две недели времени"
   ]
  },
  {
   "cell_type": "code",
   "execution_count": 26,
   "id": "9a150dff-b4d2-4ee9-850c-975dae8ca8f5",
   "metadata": {},
   "outputs": [
    {
     "data": {
      "text/html": [
       "<div>\n",
       "<style scoped>\n",
       "    .dataframe tbody tr th:only-of-type {\n",
       "        vertical-align: middle;\n",
       "    }\n",
       "\n",
       "    .dataframe tbody tr th {\n",
       "        vertical-align: top;\n",
       "    }\n",
       "\n",
       "    .dataframe thead th {\n",
       "        text-align: right;\n",
       "    }\n",
       "</style>\n",
       "<table border=\"1\" class=\"dataframe\">\n",
       "  <thead>\n",
       "    <tr style=\"text-align: right;\">\n",
       "      <th></th>\n",
       "      <th>user_id</th>\n",
       "      <th>group</th>\n",
       "      <th>first_order</th>\n",
       "      <th>last_order</th>\n",
       "    </tr>\n",
       "  </thead>\n",
       "  <tbody>\n",
       "    <tr>\n",
       "      <th>0</th>\n",
       "      <td>964</td>\n",
       "      <td>0</td>\n",
       "      <td>2022-08-26 00:00:19</td>\n",
       "      <td>2022-08-26 00:02:27</td>\n",
       "    </tr>\n",
       "    <tr>\n",
       "      <th>1</th>\n",
       "      <td>965</td>\n",
       "      <td>1</td>\n",
       "      <td>2022-08-26 00:02:21</td>\n",
       "      <td>2022-09-04 22:24:32</td>\n",
       "    </tr>\n",
       "    <tr>\n",
       "      <th>2</th>\n",
       "      <td>966</td>\n",
       "      <td>0</td>\n",
       "      <td>2022-08-26 00:02:56</td>\n",
       "      <td>2022-08-26 00:02:56</td>\n",
       "    </tr>\n",
       "    <tr>\n",
       "      <th>3</th>\n",
       "      <td>967</td>\n",
       "      <td>1</td>\n",
       "      <td>2022-08-26 00:03:37</td>\n",
       "      <td>2022-08-28 16:41:30</td>\n",
       "    </tr>\n",
       "    <tr>\n",
       "      <th>4</th>\n",
       "      <td>968</td>\n",
       "      <td>0</td>\n",
       "      <td>2022-08-26 00:05:35</td>\n",
       "      <td>2022-08-31 05:27:34</td>\n",
       "    </tr>\n",
       "  </tbody>\n",
       "</table>\n",
       "</div>"
      ],
      "text/plain": [
       "   user_id  group         first_order          last_order\n",
       "0      964      0 2022-08-26 00:00:19 2022-08-26 00:02:27\n",
       "1      965      1 2022-08-26 00:02:21 2022-09-04 22:24:32\n",
       "2      966      0 2022-08-26 00:02:56 2022-08-26 00:02:56\n",
       "3      967      1 2022-08-26 00:03:37 2022-08-28 16:41:30\n",
       "4      968      0 2022-08-26 00:05:35 2022-08-31 05:27:34"
      ]
     },
     "execution_count": 26,
     "metadata": {},
     "output_type": "execute_result"
    }
   ],
   "source": [
    "# Время первого и последнего заказа конкретного пользователя из определенной группы\n",
    "retention = user_order.groupby([\"user_id\", \"group\"], as_index=False).agg(first_order=(\"creation_time\", \"min\"), \n",
    "                                                              last_order=(\"creation_time\", \"max\"))\n",
    "retention.head()"
   ]
  },
  {
   "cell_type": "code",
   "execution_count": 31,
   "id": "4f1c5bf4-54b7-4031-a5bc-4c8e7c85c953",
   "metadata": {},
   "outputs": [
    {
     "data": {
      "text/plain": [
       "count                         1017\n",
       "mean     6 days 23:27:21.923303834\n",
       "std      4 days 06:43:22.480610835\n",
       "min                0 days 00:00:00\n",
       "25%                3 days 11:27:14\n",
       "50%                7 days 15:39:20\n",
       "75%               10 days 13:37:01\n",
       "max               13 days 22:36:14\n",
       "dtype: object"
      ]
     },
     "execution_count": 31,
     "metadata": {},
     "output_type": "execute_result"
    }
   ],
   "source": [
    "(retention.last_order - retention.first_order).describe()"
   ]
  },
  {
   "cell_type": "code",
   "execution_count": 32,
   "id": "228f6ad3-4c91-4e93-a92a-f2d8d31f9e6c",
   "metadata": {},
   "outputs": [
    {
     "data": {
      "text/html": [
       "<div>\n",
       "<style scoped>\n",
       "    .dataframe tbody tr th:only-of-type {\n",
       "        vertical-align: middle;\n",
       "    }\n",
       "\n",
       "    .dataframe tbody tr th {\n",
       "        vertical-align: top;\n",
       "    }\n",
       "\n",
       "    .dataframe thead th {\n",
       "        text-align: right;\n",
       "    }\n",
       "</style>\n",
       "<table border=\"1\" class=\"dataframe\">\n",
       "  <thead>\n",
       "    <tr style=\"text-align: right;\">\n",
       "      <th></th>\n",
       "      <th>user_id</th>\n",
       "      <th>group</th>\n",
       "      <th>first_order</th>\n",
       "      <th>last_order</th>\n",
       "      <th>lifetime</th>\n",
       "    </tr>\n",
       "  </thead>\n",
       "  <tbody>\n",
       "    <tr>\n",
       "      <th>0</th>\n",
       "      <td>964</td>\n",
       "      <td>0</td>\n",
       "      <td>2022-08-26 00:00:19</td>\n",
       "      <td>2022-08-26 00:02:27</td>\n",
       "      <td>0.001481</td>\n",
       "    </tr>\n",
       "    <tr>\n",
       "      <th>1</th>\n",
       "      <td>965</td>\n",
       "      <td>1</td>\n",
       "      <td>2022-08-26 00:02:21</td>\n",
       "      <td>2022-09-04 22:24:32</td>\n",
       "      <td>9.932072</td>\n",
       "    </tr>\n",
       "    <tr>\n",
       "      <th>2</th>\n",
       "      <td>966</td>\n",
       "      <td>0</td>\n",
       "      <td>2022-08-26 00:02:56</td>\n",
       "      <td>2022-08-26 00:02:56</td>\n",
       "      <td>0.000000</td>\n",
       "    </tr>\n",
       "    <tr>\n",
       "      <th>3</th>\n",
       "      <td>967</td>\n",
       "      <td>1</td>\n",
       "      <td>2022-08-26 00:03:37</td>\n",
       "      <td>2022-08-28 16:41:30</td>\n",
       "      <td>2.692975</td>\n",
       "    </tr>\n",
       "    <tr>\n",
       "      <th>4</th>\n",
       "      <td>968</td>\n",
       "      <td>0</td>\n",
       "      <td>2022-08-26 00:05:35</td>\n",
       "      <td>2022-08-31 05:27:34</td>\n",
       "      <td>5.223600</td>\n",
       "    </tr>\n",
       "  </tbody>\n",
       "</table>\n",
       "</div>"
      ],
      "text/plain": [
       "   user_id  group         first_order          last_order  lifetime\n",
       "0      964      0 2022-08-26 00:00:19 2022-08-26 00:02:27  0.001481\n",
       "1      965      1 2022-08-26 00:02:21 2022-09-04 22:24:32  9.932072\n",
       "2      966      0 2022-08-26 00:02:56 2022-08-26 00:02:56  0.000000\n",
       "3      967      1 2022-08-26 00:03:37 2022-08-28 16:41:30  2.692975\n",
       "4      968      0 2022-08-26 00:05:35 2022-08-31 05:27:34  5.223600"
      ]
     },
     "execution_count": 32,
     "metadata": {},
     "output_type": "execute_result"
    }
   ],
   "source": [
    "retention[\"lifetime\"] = (retention.last_order - retention.first_order).dt.total_seconds() / (3600 * 24)\n",
    "retention.head()\n",
    "# 3600 * 24 - секунд в одном дне\n",
    "# Время жизни каждого пользователя"
   ]
  },
  {
   "cell_type": "code",
   "execution_count": 33,
   "id": "58993fdd-b845-4289-81c0-fe0d501af31e",
   "metadata": {},
   "outputs": [
    {
     "data": {
      "text/plain": [
       "array([datetime.date(2022, 8, 26)], dtype=object)"
      ]
     },
     "execution_count": 33,
     "metadata": {},
     "output_type": "execute_result"
    }
   ],
   "source": [
    "retention.first_order.dt.date.unique() #все пользователи из одной когорты\n",
    "# у всех пользователей первый заказ был 26 августа 2022 года"
   ]
  },
  {
   "cell_type": "code",
   "execution_count": 35,
   "id": "a1309a58-ab57-45a7-9819-69af47584926",
   "metadata": {},
   "outputs": [
    {
     "data": {
      "text/plain": [
       "array([datetime.date(2022, 8, 26), datetime.date(2022, 9, 4),\n",
       "       datetime.date(2022, 8, 28), datetime.date(2022, 8, 31),\n",
       "       datetime.date(2022, 8, 27), datetime.date(2022, 8, 29),\n",
       "       datetime.date(2022, 8, 30), datetime.date(2022, 9, 7),\n",
       "       datetime.date(2022, 9, 1), datetime.date(2022, 9, 3),\n",
       "       datetime.date(2022, 9, 8), datetime.date(2022, 9, 2),\n",
       "       datetime.date(2022, 9, 5), datetime.date(2022, 9, 6)], dtype=object)"
      ]
     },
     "execution_count": 35,
     "metadata": {},
     "output_type": "execute_result"
    }
   ],
   "source": [
    "retention.last_order.dt.date.unique()\n",
    "#даты последних заказов"
   ]
  },
  {
   "cell_type": "code",
   "execution_count": 36,
   "id": "34439e7a-780c-4e43-aa1d-b223749942b8",
   "metadata": {},
   "outputs": [
    {
     "data": {
      "text/html": [
       "<div>\n",
       "<style scoped>\n",
       "    .dataframe tbody tr th:only-of-type {\n",
       "        vertical-align: middle;\n",
       "    }\n",
       "\n",
       "    .dataframe tbody tr th {\n",
       "        vertical-align: top;\n",
       "    }\n",
       "\n",
       "    .dataframe thead th {\n",
       "        text-align: right;\n",
       "    }\n",
       "</style>\n",
       "<table border=\"1\" class=\"dataframe\">\n",
       "  <thead>\n",
       "    <tr style=\"text-align: right;\">\n",
       "      <th></th>\n",
       "      <th>user_id</th>\n",
       "      <th>group</th>\n",
       "      <th>first_order</th>\n",
       "      <th>last_order</th>\n",
       "      <th>lifetime</th>\n",
       "      <th>churn</th>\n",
       "    </tr>\n",
       "  </thead>\n",
       "  <tbody>\n",
       "    <tr>\n",
       "      <th>0</th>\n",
       "      <td>964</td>\n",
       "      <td>0</td>\n",
       "      <td>2022-08-26 00:00:19</td>\n",
       "      <td>2022-08-26 00:02:27</td>\n",
       "      <td>0.001481</td>\n",
       "      <td>1</td>\n",
       "    </tr>\n",
       "    <tr>\n",
       "      <th>1</th>\n",
       "      <td>965</td>\n",
       "      <td>1</td>\n",
       "      <td>2022-08-26 00:02:21</td>\n",
       "      <td>2022-09-04 22:24:32</td>\n",
       "      <td>9.932072</td>\n",
       "      <td>0</td>\n",
       "    </tr>\n",
       "    <tr>\n",
       "      <th>2</th>\n",
       "      <td>966</td>\n",
       "      <td>0</td>\n",
       "      <td>2022-08-26 00:02:56</td>\n",
       "      <td>2022-08-26 00:02:56</td>\n",
       "      <td>0.000000</td>\n",
       "      <td>1</td>\n",
       "    </tr>\n",
       "    <tr>\n",
       "      <th>3</th>\n",
       "      <td>967</td>\n",
       "      <td>1</td>\n",
       "      <td>2022-08-26 00:03:37</td>\n",
       "      <td>2022-08-28 16:41:30</td>\n",
       "      <td>2.692975</td>\n",
       "      <td>1</td>\n",
       "    </tr>\n",
       "    <tr>\n",
       "      <th>4</th>\n",
       "      <td>968</td>\n",
       "      <td>0</td>\n",
       "      <td>2022-08-26 00:05:35</td>\n",
       "      <td>2022-08-31 05:27:34</td>\n",
       "      <td>5.223600</td>\n",
       "      <td>1</td>\n",
       "    </tr>\n",
       "  </tbody>\n",
       "</table>\n",
       "</div>"
      ],
      "text/plain": [
       "   user_id  group         first_order          last_order  lifetime  churn\n",
       "0      964      0 2022-08-26 00:00:19 2022-08-26 00:02:27  0.001481      1\n",
       "1      965      1 2022-08-26 00:02:21 2022-09-04 22:24:32  9.932072      0\n",
       "2      966      0 2022-08-26 00:02:56 2022-08-26 00:02:56  0.000000      1\n",
       "3      967      1 2022-08-26 00:03:37 2022-08-28 16:41:30  2.692975      1\n",
       "4      968      0 2022-08-26 00:05:35 2022-08-31 05:27:34  5.223600      1"
      ]
     },
     "execution_count": 36,
     "metadata": {},
     "output_type": "execute_result"
    }
   ],
   "source": [
    "# Переменная оттока\n",
    "retention[\"churn\"] = ((user_order.creation_time.max() - retention.last_order) > pd.Timedelta(\"7d\")).astype(int)\n",
    "retention.head()"
   ]
  },
  {
   "cell_type": "code",
   "execution_count": 39,
   "id": "dcc37baf-e2e6-4808-816f-7c518ca2591b",
   "metadata": {},
   "outputs": [
    {
     "data": {
      "text/plain": [
       "0   2022-08-26 00:00:19\n",
       "1   2022-08-26 00:02:21\n",
       "2   2022-08-26 00:02:27\n",
       "3   2022-08-26 00:02:56\n",
       "4   2022-08-26 00:03:37\n",
       "Name: creation_time, dtype: datetime64[ns]"
      ]
     },
     "execution_count": 39,
     "metadata": {},
     "output_type": "execute_result"
    }
   ],
   "source": [
    "user_order.creation_time.head()"
   ]
  },
  {
   "cell_type": "code",
   "execution_count": 40,
   "id": "bcd948c6-a62a-4ff2-a06a-bb9931d78ec1",
   "metadata": {},
   "outputs": [
    {
     "data": {
      "text/plain": [
       "Timestamp('2022-09-08 23:41:24')"
      ]
     },
     "execution_count": 40,
     "metadata": {},
     "output_type": "execute_result"
    }
   ],
   "source": [
    "user_order.creation_time.max()"
   ]
  },
  {
   "cell_type": "code",
   "execution_count": 42,
   "id": "9168d4be-dbf4-43c5-aa78-e2b650978afe",
   "metadata": {},
   "outputs": [
    {
     "data": {
      "text/plain": [
       "0   2022-08-26 00:02:27\n",
       "1   2022-09-04 22:24:32\n",
       "2   2022-08-26 00:02:56\n",
       "3   2022-08-28 16:41:30\n",
       "4   2022-08-31 05:27:34\n",
       "Name: last_order, dtype: datetime64[ns]"
      ]
     },
     "execution_count": 42,
     "metadata": {},
     "output_type": "execute_result"
    }
   ],
   "source": [
    "retention.last_order.head()"
   ]
  },
  {
   "cell_type": "code",
   "execution_count": 43,
   "id": "0e5621b7-a162-425c-8ac4-5c214bac89ef",
   "metadata": {},
   "outputs": [
    {
     "data": {
      "text/plain": [
       "<Axes: xlabel='lifetime', ylabel='Count'>"
      ]
     },
     "execution_count": 43,
     "metadata": {},
     "output_type": "execute_result"
    },
    {
     "data": {
      "image/png": "[encoded data removed]",
      "text/plain": [
       "<Figure size 640x480 with 1 Axes>"
      ]
     },
     "metadata": {},
     "output_type": "display_data"
    }
   ],
   "source": [
    "sns.histplot(data=retention, x=\"lifetime\", hue=\"group\")"
   ]
  },
  {
   "cell_type": "code",
   "execution_count": 44,
   "id": "c35407ea-3092-40cf-b05a-435bc9d9680b",
   "metadata": {},
   "outputs": [
    {
     "data": {
      "text/html": [
       "<div>\n",
       "<style scoped>\n",
       "    .dataframe tbody tr th:only-of-type {\n",
       "        vertical-align: middle;\n",
       "    }\n",
       "\n",
       "    .dataframe tbody tr th {\n",
       "        vertical-align: top;\n",
       "    }\n",
       "\n",
       "    .dataframe thead th {\n",
       "        text-align: right;\n",
       "    }\n",
       "</style>\n",
       "<table border=\"1\" class=\"dataframe\">\n",
       "  <thead>\n",
       "    <tr style=\"text-align: right;\">\n",
       "      <th></th>\n",
       "      <th>T</th>\n",
       "      <th>dof</th>\n",
       "      <th>alternative</th>\n",
       "      <th>p-val</th>\n",
       "      <th>CI95%</th>\n",
       "      <th>cohen-d</th>\n",
       "      <th>BF10</th>\n",
       "      <th>power</th>\n",
       "    </tr>\n",
       "  </thead>\n",
       "  <tbody>\n",
       "    <tr>\n",
       "      <th>T-test</th>\n",
       "      <td>-7.079732</td>\n",
       "      <td>1004.533039</td>\n",
       "      <td>two-sided</td>\n",
       "      <td>2.710044e-12</td>\n",
       "      <td>[-2.37, -1.34]</td>\n",
       "      <td>0.443316</td>\n",
       "      <td>2.188e+09</td>\n",
       "      <td>1.0</td>\n",
       "    </tr>\n",
       "  </tbody>\n",
       "</table>\n",
       "</div>"
      ],
      "text/plain": [
       "               T          dof alternative         p-val           CI95%  \\\n",
       "T-test -7.079732  1004.533039   two-sided  2.710044e-12  [-2.37, -1.34]   \n",
       "\n",
       "         cohen-d       BF10  power  \n",
       "T-test  0.443316  2.188e+09    1.0  "
      ]
     },
     "execution_count": 44,
     "metadata": {},
     "output_type": "execute_result"
    }
   ],
   "source": [
    "pg.ttest(x=retention.query(\"group==0\")[\"lifetime\"], \n",
    "         y=retention.query(\"group==1\")[\"lifetime\"])"
   ]
  },
  {
   "cell_type": "code",
   "execution_count": 45,
   "id": "d87e878f-530c-4688-8f7b-58e1358cc978",
   "metadata": {},
   "outputs": [
    {
     "data": {
      "text/html": [
       "<div>\n",
       "<style scoped>\n",
       "    .dataframe tbody tr th:only-of-type {\n",
       "        vertical-align: middle;\n",
       "    }\n",
       "\n",
       "    .dataframe tbody tr th {\n",
       "        vertical-align: top;\n",
       "    }\n",
       "\n",
       "    .dataframe thead th {\n",
       "        text-align: right;\n",
       "    }\n",
       "</style>\n",
       "<table border=\"1\" class=\"dataframe\">\n",
       "  <thead>\n",
       "    <tr style=\"text-align: right;\">\n",
       "      <th></th>\n",
       "      <th>U-val</th>\n",
       "      <th>alternative</th>\n",
       "      <th>p-val</th>\n",
       "      <th>RBC</th>\n",
       "      <th>CLES</th>\n",
       "    </tr>\n",
       "  </thead>\n",
       "  <tbody>\n",
       "    <tr>\n",
       "      <th>MWU</th>\n",
       "      <td>98354.0</td>\n",
       "      <td>two-sided</td>\n",
       "      <td>3.984586e-11</td>\n",
       "      <td>0.239129</td>\n",
       "      <td>0.380436</td>\n",
       "    </tr>\n",
       "  </tbody>\n",
       "</table>\n",
       "</div>"
      ],
      "text/plain": [
       "       U-val alternative         p-val       RBC      CLES\n",
       "MWU  98354.0   two-sided  3.984586e-11  0.239129  0.380436"
      ]
     },
     "execution_count": 45,
     "metadata": {},
     "output_type": "execute_result"
    }
   ],
   "source": [
    "pg.mwu(x=retention.query(\"group==0\")[\"lifetime\"], \n",
    "       y=retention.query(\"group==1\")[\"lifetime\"])"
   ]
  },
  {
   "cell_type": "code",
   "execution_count": 46,
   "id": "4edfb736-7ff2-433d-b04a-e0a5ee5f3e3b",
   "metadata": {},
   "outputs": [
    {
     "data": {
      "text/html": [
       "<div>\n",
       "<style scoped>\n",
       "    .dataframe tbody tr th:only-of-type {\n",
       "        vertical-align: middle;\n",
       "    }\n",
       "\n",
       "    .dataframe tbody tr th {\n",
       "        vertical-align: top;\n",
       "    }\n",
       "\n",
       "    .dataframe thead th {\n",
       "        text-align: right;\n",
       "    }\n",
       "</style>\n",
       "<table border=\"1\" class=\"dataframe\">\n",
       "  <thead>\n",
       "    <tr style=\"text-align: right;\">\n",
       "      <th>churn</th>\n",
       "      <th>0</th>\n",
       "      <th>1</th>\n",
       "    </tr>\n",
       "    <tr>\n",
       "      <th>group</th>\n",
       "      <th></th>\n",
       "      <th></th>\n",
       "    </tr>\n",
       "  </thead>\n",
       "  <tbody>\n",
       "    <tr>\n",
       "      <th>0</th>\n",
       "      <td>252</td>\n",
       "      <td>263</td>\n",
       "    </tr>\n",
       "    <tr>\n",
       "      <th>1</th>\n",
       "      <td>332</td>\n",
       "      <td>170</td>\n",
       "    </tr>\n",
       "  </tbody>\n",
       "</table>\n",
       "</div>"
      ],
      "text/plain": [
       "churn    0    1\n",
       "group          \n",
       "0      252  263\n",
       "1      332  170"
      ]
     },
     "execution_count": 46,
     "metadata": {},
     "output_type": "execute_result"
    }
   ],
   "source": [
    "pd.crosstab(retention.group, retention.churn)"
   ]
  },
  {
   "cell_type": "code",
   "execution_count": 47,
   "id": "23ce6993-3410-41d0-8f21-921ff7b38387",
   "metadata": {},
   "outputs": [
    {
     "data": {
      "text/html": [
       "<div>\n",
       "<style scoped>\n",
       "    .dataframe tbody tr th:only-of-type {\n",
       "        vertical-align: middle;\n",
       "    }\n",
       "\n",
       "    .dataframe tbody tr th {\n",
       "        vertical-align: top;\n",
       "    }\n",
       "\n",
       "    .dataframe thead th {\n",
       "        text-align: right;\n",
       "    }\n",
       "</style>\n",
       "<table border=\"1\" class=\"dataframe\">\n",
       "  <thead>\n",
       "    <tr style=\"text-align: right;\">\n",
       "      <th></th>\n",
       "      <th>test</th>\n",
       "      <th>lambda</th>\n",
       "      <th>chi2</th>\n",
       "      <th>dof</th>\n",
       "      <th>pval</th>\n",
       "      <th>cramer</th>\n",
       "      <th>power</th>\n",
       "    </tr>\n",
       "  </thead>\n",
       "  <tbody>\n",
       "    <tr>\n",
       "      <th>0</th>\n",
       "      <td>pearson</td>\n",
       "      <td>1.000000</td>\n",
       "      <td>30.072727</td>\n",
       "      <td>1.0</td>\n",
       "      <td>4.161428e-08</td>\n",
       "      <td>0.171959</td>\n",
       "      <td>0.999787</td>\n",
       "    </tr>\n",
       "    <tr>\n",
       "      <th>1</th>\n",
       "      <td>cressie-read</td>\n",
       "      <td>0.666667</td>\n",
       "      <td>30.113482</td>\n",
       "      <td>1.0</td>\n",
       "      <td>4.074885e-08</td>\n",
       "      <td>0.172076</td>\n",
       "      <td>0.999790</td>\n",
       "    </tr>\n",
       "    <tr>\n",
       "      <th>2</th>\n",
       "      <td>log-likelihood</td>\n",
       "      <td>0.000000</td>\n",
       "      <td>30.250438</td>\n",
       "      <td>1.0</td>\n",
       "      <td>3.797055e-08</td>\n",
       "      <td>0.172467</td>\n",
       "      <td>0.999800</td>\n",
       "    </tr>\n",
       "    <tr>\n",
       "      <th>3</th>\n",
       "      <td>freeman-tukey</td>\n",
       "      <td>-0.500000</td>\n",
       "      <td>30.402505</td>\n",
       "      <td>1.0</td>\n",
       "      <td>3.510745e-08</td>\n",
       "      <td>0.172900</td>\n",
       "      <td>0.999810</td>\n",
       "    </tr>\n",
       "    <tr>\n",
       "      <th>4</th>\n",
       "      <td>mod-log-likelihood</td>\n",
       "      <td>-1.000000</td>\n",
       "      <td>30.597845</td>\n",
       "      <td>1.0</td>\n",
       "      <td>3.174461e-08</td>\n",
       "      <td>0.173454</td>\n",
       "      <td>0.999823</td>\n",
       "    </tr>\n",
       "    <tr>\n",
       "      <th>5</th>\n",
       "      <td>neyman</td>\n",
       "      <td>-2.000000</td>\n",
       "      <td>31.122750</td>\n",
       "      <td>1.0</td>\n",
       "      <td>2.422158e-08</td>\n",
       "      <td>0.174936</td>\n",
       "      <td>0.999852</td>\n",
       "    </tr>\n",
       "  </tbody>\n",
       "</table>\n",
       "</div>"
      ],
      "text/plain": [
       "                 test    lambda       chi2  dof          pval    cramer  \\\n",
       "0             pearson  1.000000  30.072727  1.0  4.161428e-08  0.171959   \n",
       "1        cressie-read  0.666667  30.113482  1.0  4.074885e-08  0.172076   \n",
       "2      log-likelihood  0.000000  30.250438  1.0  3.797055e-08  0.172467   \n",
       "3       freeman-tukey -0.500000  30.402505  1.0  3.510745e-08  0.172900   \n",
       "4  mod-log-likelihood -1.000000  30.597845  1.0  3.174461e-08  0.173454   \n",
       "5              neyman -2.000000  31.122750  1.0  2.422158e-08  0.174936   \n",
       "\n",
       "      power  \n",
       "0  0.999787  \n",
       "1  0.999790  \n",
       "2  0.999800  \n",
       "3  0.999810  \n",
       "4  0.999823  \n",
       "5  0.999852  "
      ]
     },
     "execution_count": 47,
     "metadata": {},
     "output_type": "execute_result"
    }
   ],
   "source": [
    "exp, obs, stat = pg.chi2_independence(data=retention, x=\"group\", y=\"churn\")\n",
    "stat"
   ]
  },
  {
   "cell_type": "markdown",
   "id": "ed7aef20-7aa2-4506-8233-53152ce15b56",
   "metadata": {},
   "source": [
    "## Анализ выживаемости\n",
    "\n",
    "Анализ выживаемости позволяет анализировать время до того, как случится (или не случится) событие"
   ]
  },
  {
   "cell_type": "code",
   "execution_count": 48,
   "id": "f321ec47-8f8d-408c-bb66-92196bfdf08a",
   "metadata": {},
   "outputs": [],
   "source": [
    "kmf = lf.KaplanMeierFitter() #создаем модель"
   ]
  },
  {
   "cell_type": "code",
   "execution_count": 49,
   "id": "52e9c215-6cab-432a-a531-6a043edb2d2f",
   "metadata": {},
   "outputs": [
    {
     "data": {
      "image/png": "[encoded data removed]",
      "text/plain": [
       "<Figure size 640x480 with 1 Axes>"
      ]
     },
     "metadata": {},
     "output_type": "display_data"
    }
   ],
   "source": [
    "ax = plt.subplot(111) #чтобы поместить кривые групп на один рисунок\n",
    "\n",
    "kmf.fit(durations=retention.query(\"group==0\").lifetime, \n",
    "        event_observed=retention.query(\"group==0\").churn,\n",
    "        label=\"Контроль\") #строим модель\n",
    "kmf.plot(ax=ax) #рисуем\n",
    "\n",
    "kmf.fit(durations=retention.query(\"group==1\").lifetime, \n",
    "        event_observed=retention.query(\"group==1\").churn,\n",
    "        label=\"Тест\")\n",
    "kmf.plot(ax=ax)\n",
    "\n",
    "plt.show()"
   ]
  },
  {
   "cell_type": "code",
   "execution_count": 50,
   "id": "1f4b3cbe-2d90-41de-bae5-24e6f7322ced",
   "metadata": {},
   "outputs": [
    {
     "data": {
      "text/html": [
       "<div>\n",
       "<style scoped>\n",
       "    .dataframe tbody tr th:only-of-type {\n",
       "        vertical-align: middle;\n",
       "    }\n",
       "\n",
       "    .dataframe tbody tr th {\n",
       "        vertical-align: top;\n",
       "    }\n",
       "\n",
       "    .dataframe thead th {\n",
       "        text-align: right;\n",
       "    }\n",
       "</style>\n",
       "<table border=\"1\" class=\"dataframe\">\n",
       "  <tbody>\n",
       "    <tr>\n",
       "      <th>t_0</th>\n",
       "      <td>-1</td>\n",
       "    </tr>\n",
       "    <tr>\n",
       "      <th>null_distribution</th>\n",
       "      <td>chi squared</td>\n",
       "    </tr>\n",
       "    <tr>\n",
       "      <th>degrees_of_freedom</th>\n",
       "      <td>1</td>\n",
       "    </tr>\n",
       "    <tr>\n",
       "      <th>test_name</th>\n",
       "      <td>logrank_test</td>\n",
       "    </tr>\n",
       "  </tbody>\n",
       "</table>\n",
       "</div><table border=\"1\" class=\"dataframe\">\n",
       "  <thead>\n",
       "    <tr style=\"text-align: right;\">\n",
       "      <th></th>\n",
       "      <th>test_statistic</th>\n",
       "      <th>p</th>\n",
       "      <th>-log2(p)</th>\n",
       "    </tr>\n",
       "  </thead>\n",
       "  <tbody>\n",
       "    <tr>\n",
       "      <th>0</th>\n",
       "      <td>37.41</td>\n",
       "      <td>&lt;0.005</td>\n",
       "      <td>29.96</td>\n",
       "    </tr>\n",
       "  </tbody>\n",
       "</table>"
      ],
      "text/latex": [
       "\\begin{tabular}{lrrr}\n",
       " & test_statistic & p & -log2(p) \\\\\n",
       "0 & 37.41 & 0.00 & 29.96 \\\\\n",
       "\\end{tabular}\n"
      ],
      "text/plain": [
       "<lifelines.StatisticalResult: logrank_test>\n",
       "               t_0 = -1\n",
       " null_distribution = chi squared\n",
       "degrees_of_freedom = 1\n",
       "         test_name = logrank_test\n",
       "\n",
       "---\n",
       " test_statistic      p  -log2(p)\n",
       "          37.41 <0.005     29.96"
      ]
     },
     "execution_count": 50,
     "metadata": {},
     "output_type": "execute_result"
    }
   ],
   "source": [
    "lf.statistics.logrank_test(durations_A=retention.query(\"group==0\").lifetime, \n",
    "                           durations_B=retention.query(\"group==1\").lifetime, \n",
    "                           event_observed_A=retention.query(\"group==0\").churn,\n",
    "                           event_observed_B=retention.query(\"group==1\").churn)"
   ]
  },
  {
   "cell_type": "markdown",
   "id": "2048463e-3dbf-4db5-aec0-c9f4827b4df5",
   "metadata": {},
   "source": [
    "__Retention статистически значимо отличается в контрольной и тестовой группе__ (в пользу тестовой группы)"
   ]
  },
  {
   "cell_type": "markdown",
   "id": "5ffd22c8-acc3-4693-aeac-dc1b2e00a99f",
   "metadata": {},
   "source": [
    "## Вывод: Вводим изменения в работу онлайн магазина"
   ]
  }
 ],
 "metadata": {
  "kernelspec": {
   "display_name": "Python 3 (ipykernel)",
   "language": "python",
   "name": "python3"
  },
  "language_info": {
   "codemirror_mode": {
    "name": "ipython",
    "version": 3
   },
   "file_extension": ".py",
   "mimetype": "text/x-python",
   "name": "python",
   "nbconvert_exporter": "python",
   "pygments_lexer": "ipython3",
   "version": "3.12.1"
  }
 },
 "nbformat": 4,
 "nbformat_minor": 5
}
